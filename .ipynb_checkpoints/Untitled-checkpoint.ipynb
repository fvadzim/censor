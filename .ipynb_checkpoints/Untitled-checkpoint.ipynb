{
 "cells": [
  {
   "cell_type": "code",
   "execution_count": 9,
   "metadata": {},
   "outputs": [],
   "source": [
    "text = '''\n",
    "Björk Guðmundsdóttir (Icelandic pronunciation: [ˈpjœr̥k ˈkvʏðmʏntsˌtouhtɪr], born 21 November 1965),[2] \n",
    "known as Björk (/bjɜːrk/),[3] is an Icelandic singer, songwriter, actress, record producer, and DJ.\n",
    "Over her four-decade career, she has developed an eclectic musical style that draws on a wide range of \n",
    "influences and genres spanning electronic, pop, experimental, classical, trip hop, IDM, \n",
    "and avant-garde styles. She initially became known as the lead singer of the alternative rock band The Sugarcubes\n",
    ", whose 1987 single \"Birthday\" was a hit on US and UK indie stations and a favorite among music critics\n",
    ".[4] Björk embarked on a solo career in 1993, coming to prominence as a solo artist with albums such as Debut (1993), Post \n",
    "(1995), and Homogenic (1997), while collaborating with a range of artists and exploring a variety of \n",
    "multimedia projects.'''"
   ]
  },
  {
   "cell_type": "code",
   "execution_count": 11,
   "metadata": {},
   "outputs": [],
   "source": [
    "\n",
    "text = '''\n",
    "Björk Guðmundsdóttir (Icelandic pronunciation: \n",
    "[ˈpjœr̥k ˈkvʏðmʏntsˌtouhtɪr], born 21 November 1965),[2] known as Björk \n",
    "(/bjɜːrk/),[3] is an Icelandic singer, songwriter, actress, record producer, and DJ. Over her \n",
    "four-decade career, she has developed an eclectic musical style that draws on a wide range \n",
    "of influences and genres spanning electronic, pop, experimental, classical, trip hop, IDM, \n",
    "and avant-garde styles. She initially became known as the lead singer of the alternative rock band The \n",
    "Sugarcubes, whose 1987 single \"Birthday\" was a hit on US and UK indie stations and a favorite among \n",
    "music critics.[4] Björk embarked on a solo career in 1993, coming to prominence as a solo \n",
    "artist with albums such as Debut (1993), Post (1995), and Homogenic (1997), while collaborating with a \n",
    "range of artists and exploring a variety of multimedia projects.\n",
    "'''\n",
    "\n"
   ]
  },
  {
   "cell_type": "code",
   "execution_count": 2,
   "metadata": {},
   "outputs": [],
   "source": [
    "from nltk.tokenize import WordPunctTokenizer"
   ]
  },
  {
   "cell_type": "code",
   "execution_count": 6,
   "metadata": {},
   "outputs": [],
   "source": [
    "word_tokenizer =  WordPunctTokenizer()"
   ]
  },
  {
   "cell_type": "code",
   "execution_count": 7,
   "metadata": {},
   "outputs": [
    {
     "data": {
      "text/plain": [
       "['known',\n",
       " 'as',\n",
       " 'Björk',\n",
       " '(/',\n",
       " 'bjɜːrk',\n",
       " '/),[',\n",
       " '3',\n",
       " ']',\n",
       " 'is',\n",
       " 'an',\n",
       " 'Icelandic',\n",
       " 'singer',\n",
       " ',',\n",
       " 'songwriter',\n",
       " ',',\n",
       " 'actress',\n",
       " ',',\n",
       " 'record',\n",
       " 'producer',\n",
       " ',',\n",
       " 'and',\n",
       " 'DJ',\n",
       " '.',\n",
       " 'Over',\n",
       " 'her',\n",
       " 'four',\n",
       " '-',\n",
       " 'decade',\n",
       " 'career',\n",
       " ',',\n",
       " 'she',\n",
       " 'has',\n",
       " 'developed',\n",
       " 'an',\n",
       " 'eclectic',\n",
       " 'musical',\n",
       " 'style',\n",
       " 'that',\n",
       " 'draws',\n",
       " 'on',\n",
       " 'a',\n",
       " 'wide',\n",
       " 'range',\n",
       " 'of',\n",
       " 'influences',\n",
       " 'and',\n",
       " 'genres',\n",
       " 'spanning',\n",
       " 'electronic',\n",
       " ',',\n",
       " 'pop',\n",
       " ',',\n",
       " 'experimental',\n",
       " ',',\n",
       " 'classical',\n",
       " ',',\n",
       " 'trip',\n",
       " 'hop',\n",
       " ',',\n",
       " 'IDM',\n",
       " ',',\n",
       " 'and',\n",
       " 'avant',\n",
       " '-',\n",
       " 'garde',\n",
       " 'styles',\n",
       " '.']"
      ]
     },
     "execution_count": 7,
     "metadata": {},
     "output_type": "execute_result"
    }
   ],
   "source": [
    "word_tokenizer.tokenize("
   ]
  },
  {
   "cell_type": "code",
   "execution_count": 9,
   "metadata": {},
   "outputs": [
    {
     "data": {
      "text/plain": [
       "['known',\n",
       " 'as',\n",
       " 'Björk',\n",
       " 'bjɜːrk',\n",
       " '3',\n",
       " 'is',\n",
       " 'an',\n",
       " 'Icelandic',\n",
       " 'singer',\n",
       " 'songwriter',\n",
       " 'actress',\n",
       " 'record',\n",
       " 'producer',\n",
       " 'and',\n",
       " 'DJ',\n",
       " 'Over',\n",
       " 'her',\n",
       " 'four',\n",
       " 'decade',\n",
       " 'career',\n",
       " 'she',\n",
       " 'has',\n",
       " 'developed',\n",
       " 'an',\n",
       " 'eclectic',\n",
       " 'musical',\n",
       " 'style',\n",
       " 'that',\n",
       " 'draws',\n",
       " 'on',\n",
       " 'a',\n",
       " 'wide',\n",
       " 'range',\n",
       " 'of',\n",
       " 'influences',\n",
       " 'and',\n",
       " 'genres',\n",
       " '44',\n",
       " 'spanning',\n",
       " 'electronic',\n",
       " 'pop',\n",
       " 'experimental',\n",
       " 'classical',\n",
       " 'trip',\n",
       " 'hop',\n",
       " 'IDM',\n",
       " 'and',\n",
       " 'avant',\n",
       " 'garde',\n",
       " 'styles']"
      ]
     },
     "execution_count": 9,
     "metadata": {},
     "output_type": "execute_result"
    }
   ],
   "source": [
    "from nltk.tokenize import RegexpTokenizer\n",
    "\n",
    "tokenizer = RegexpTokenizer(r'\\w+')\n",
    "tokenizer.tokenize(\"\"\"known as Björk \n",
    "(/bjɜːrk/),[3] is an Icelandic singer, songwriter, actress, record producer, and DJ. Over her \n",
    "four-decade career, she has developed an eclectic musical style that draws on a wide range \n",
    "of influences and genres 44 spanning electronic, pop, experimental, classical, trip hop, IDM, \n",
    "and avant-garde styles.\"\"\")"
   ]
  },
  {
   "cell_type": "code",
   "execution_count": 14,
   "metadata": {},
   "outputs": [],
   "source": [
    "import nltk"
   ]
  },
  {
   "cell_type": "code",
   "execution_count": 17,
   "metadata": {},
   "outputs": [],
   "source": [
    "\n",
    "class EnglishStemmer:\n",
    "    def __init__(self):\n",
    "        self.tokenizer__ = nltk.tokenize.RegexpTokenizer(r'\\w+')\n",
    "        self.lemmatizer__ = nltk.WordNetLemmatizer()\n",
    "\n",
    "    def get_rid_of_punctuation(self, sentence):\n",
    "        return self.tokenizer__.tokenize(sentence)\n",
    "\n",
    "    def lemmatize(self, token):\n",
    "        return self.lemmatizer__.lemmatize(token)"
   ]
  },
  {
   "cell_type": "code",
   "execution_count": 18,
   "metadata": {},
   "outputs": [],
   "source": [
    "lol = EnglishStemmer()"
   ]
  },
  {
   "cell_type": "code",
   "execution_count": 31,
   "metadata": {},
   "outputs": [],
   "source": [
    "from nltk.corpus import wordnet\n",
    "from nltk.stem import WordNetLemmatizer"
   ]
  },
  {
   "cell_type": "code",
   "execution_count": 35,
   "metadata": {},
   "outputs": [
    {
     "data": {
      "text/plain": [
       "'employeeees'"
      ]
     },
     "execution_count": 35,
     "metadata": {},
     "output_type": "execute_result"
    }
   ],
   "source": [
    "WordNetLemmatizer().lemmatize(\"\", wordnet.NOUN)"
   ]
  },
  {
   "cell_type": "code",
   "execution_count": 36,
   "metadata": {},
   "outputs": [],
   "source": [
    "from nltk.stem  import SnowballStemmer"
   ]
  },
  {
   "cell_type": "code",
   "execution_count": 43,
   "metadata": {},
   "outputs": [
    {
     "data": {
      "text/plain": [
       "'\\nbjörk guðmundsdóttir (icelandic pronunciation: [ˈpjœr̥k ˈkvʏðmʏntsˌtouhtɪr], born 21 november 1965),[2] \\nknown as björk (/bjɜːrk/),[3] is an icelandic singer, songwriter, actress, record producer, and dj.\\nover her four-decade career, she has developed an eclectic musical style that draws on a wide range of \\ninfluences and genres spanning electronic, pop, experimental, classical, trip hop, idm, \\nand avant-garde styles. she initially became known as the lead singer of the alternative rock band the sugarcubes\\n, whose 1987 single \"birthday\" was a hit on us and uk indie stations and a favorite among music critics\\n.[4] björk embarked on a solo career in 1993, coming to prominence as a solo artist with albums such as debut (1993), post \\n(1995), and homogenic (1997), while collaborating with a range of artists and exploring a variety of \\nmultimedia projects.'"
      ]
     },
     "execution_count": 43,
     "metadata": {},
     "output_type": "execute_result"
    }
   ],
   "source": [
    "stemmer = SnowballStemmer(\"english\")\n",
    "stemmer.stem('''\n",
    "Björk Guðmundsdóttir (Icelandic pronunciation: [ˈpjœr̥k ˈkvʏðmʏntsˌtouhtɪr], born 21 November 1965),[2] \n",
    "known as Björk (/bjɜːrk/),[3] is an Icelandic singer, songwriter, actress, record producer, and DJ.\n",
    "Over her four-decade career, she has developed an eclectic musical style that draws on a wide range of \n",
    "influences and genres spanning electronic, pop, experimental, classical, trip hop, IDM, \n",
    "and avant-garde styles. She initially became known as the lead singer of the alternative rock band The Sugarcubes\n",
    ", whose 1987 single \"Birthday\" was a hit on US and UK indie stations and a favorite among music critics\n",
    ".[4] Björk embarked on a solo career in 1993, coming to prominence as a solo artist with albums such as Debut (1993), Post \n",
    "(1995), and Homogenic (1997), while collaborating with a range of artists and exploring a variety of \n",
    "multimedia projects.''')"
   ]
  },
  {
   "cell_type": "code",
   "execution_count": 53,
   "metadata": {},
   "outputs": [
    {
     "data": {
      "text/plain": [
       "'going'"
      ]
     },
     "execution_count": 53,
     "metadata": {},
     "output_type": "execute_result"
    }
   ],
   "source": [
    "WordNetLemmatizer().lemmatize(\"going\")"
   ]
  },
  {
   "cell_type": "code",
   "execution_count": 54,
   "metadata": {},
   "outputs": [
    {
     "data": {
      "text/plain": [
       "'go'"
      ]
     },
     "execution_count": 54,
     "metadata": {},
     "output_type": "execute_result"
    }
   ],
   "source": [
    "stemmer.stem(\"going\")"
   ]
  },
  {
   "cell_type": "code",
   "execution_count": 1,
   "metadata": {},
   "outputs": [
    {
     "ename": "SyntaxError",
     "evalue": "invalid syntax (filter.py, line 57)",
     "output_type": "error",
     "traceback": [
      "Traceback \u001b[0;36m(most recent call last)\u001b[0m:\n",
      "  File \u001b[1;32m\"/home/citizen4/.local/lib/python3.5/site-packages/IPython/core/interactiveshell.py\"\u001b[0m, line \u001b[1;32m2910\u001b[0m, in \u001b[1;35mrun_code\u001b[0m\n    exec(code_obj, self.user_global_ns, self.user_ns)\n",
      "\u001b[0;36m  File \u001b[0;32m\"<ipython-input-1-ea42ba67fe0f>\"\u001b[0;36m, line \u001b[0;32m1\u001b[0;36m, in \u001b[0;35m<module>\u001b[0;36m\u001b[0m\n\u001b[0;31m    from filter.filter import FilterEnglish\u001b[0m\n",
      "\u001b[0;36m  File \u001b[0;32m\"/home/citizen4/nlp/censor/filter/filter.py\"\u001b[0;36m, line \u001b[0;32m57\u001b[0m\n\u001b[0;31m    return [self.lexer__.stem) for word in self.get_tokens(text)\u001b[0m\n\u001b[0m                             ^\u001b[0m\n\u001b[0;31mSyntaxError\u001b[0m\u001b[0;31m:\u001b[0m invalid syntax\n"
     ]
    }
   ],
   "source": [
    "from filter.filter import FilterEnglish"
   ]
  },
  {
   "cell_type": "code",
   "execution_count": 2,
   "metadata": {},
   "outputs": [],
   "source": [
    "filter_english = FilterEnglish()"
   ]
  },
  {
   "cell_type": "code",
   "execution_count": 4,
   "metadata": {},
   "outputs": [
    {
     "ename": "AttributeError",
     "evalue": "'EnglishStemmer' object has no attribute 'stem'",
     "output_type": "error",
     "traceback": [
      "\u001b[0;31m---------------------------------------------------------------------------\u001b[0m",
      "\u001b[0;31mAttributeError\u001b[0m                            Traceback (most recent call last)",
      "\u001b[0;32m<ipython-input-4-94a4a5aba175>\u001b[0m in \u001b[0;36m<module>\u001b[0;34m()\u001b[0m\n\u001b[1;32m      1\u001b[0m \u001b[0;34m\u001b[0m\u001b[0m\n\u001b[0;32m----> 2\u001b[0;31m \u001b[0mfilter_english\u001b[0m\u001b[0;34m.\u001b[0m\u001b[0mget_all_tokens\u001b[0m\u001b[0;34m(\u001b[0m\u001b[0mtext\u001b[0m\u001b[0;34m)\u001b[0m\u001b[0;34m\u001b[0m\u001b[0m\n\u001b[0m",
      "\u001b[0;32m~/nlp/censor/filter/filter.py\u001b[0m in \u001b[0;36mget_all_tokens\u001b[0;34m(self, text)\u001b[0m\n\u001b[1;32m     48\u001b[0m \u001b[0;34m\u001b[0m\u001b[0m\n\u001b[1;32m     49\u001b[0m     \u001b[0;32mdef\u001b[0m \u001b[0mget_all_tokens\u001b[0m\u001b[0;34m(\u001b[0m\u001b[0mself\u001b[0m\u001b[0;34m,\u001b[0m \u001b[0mtext\u001b[0m\u001b[0;34m)\u001b[0m\u001b[0;34m:\u001b[0m\u001b[0;34m\u001b[0m\u001b[0m\n\u001b[0;32m---> 50\u001b[0;31m         return [self.stemmer__.stem(word) for word in self.get_tokens(text)\n\u001b[0m\u001b[1;32m     51\u001b[0m                 if word not in self.stop_words_trie]\n\u001b[1;32m     52\u001b[0m \u001b[0;34m\u001b[0m\u001b[0m\n",
      "\u001b[0;32m~/nlp/censor/filter/filter.py\u001b[0m in \u001b[0;36m<listcomp>\u001b[0;34m(.0)\u001b[0m\n\u001b[1;32m     49\u001b[0m     \u001b[0;32mdef\u001b[0m \u001b[0mget_all_tokens\u001b[0m\u001b[0;34m(\u001b[0m\u001b[0mself\u001b[0m\u001b[0;34m,\u001b[0m \u001b[0mtext\u001b[0m\u001b[0;34m)\u001b[0m\u001b[0;34m:\u001b[0m\u001b[0;34m\u001b[0m\u001b[0m\n\u001b[1;32m     50\u001b[0m         return [self.stemmer__.stem(word) for word in self.get_tokens(text)\n\u001b[0;32m---> 51\u001b[0;31m                 if word not in self.stop_words_trie]\n\u001b[0m\u001b[1;32m     52\u001b[0m \u001b[0;34m\u001b[0m\u001b[0m\n\u001b[1;32m     53\u001b[0m \u001b[0;34m\u001b[0m\u001b[0m\n",
      "\u001b[0;31mAttributeError\u001b[0m: 'EnglishStemmer' object has no attribute 'stem'"
     ]
    }
   ],
   "source": [
    "filter_english.get_all_tokens(text)"
   ]
  },
  {
   "cell_type": "code",
   "execution_count": 2,
   "metadata": {},
   "outputs": [
    {
     "ename": "NameError",
     "evalue": "name 'word_tokenize' is not defined",
     "output_type": "error",
     "traceback": [
      "\u001b[0;31m---------------------------------------------------------------------------\u001b[0m",
      "\u001b[0;31mNameError\u001b[0m                                 Traceback (most recent call last)",
      "\u001b[0;32m<ipython-input-2-dc5ed3837115>\u001b[0m in \u001b[0;36m<module>\u001b[0;34m()\u001b[0m\n\u001b[1;32m      1\u001b[0m \u001b[0ms\u001b[0m \u001b[0;34m=\u001b[0m \u001b[0;34m\"This is a simple sentence\"\u001b[0m\u001b[0;34m\u001b[0m\u001b[0m\n\u001b[0;32m----> 2\u001b[0;31m \u001b[0mtokens\u001b[0m \u001b[0;34m=\u001b[0m \u001b[0mword_tokenize\u001b[0m\u001b[0;34m(\u001b[0m\u001b[0ms\u001b[0m\u001b[0;34m)\u001b[0m \u001b[0;31m# Generate list of tokens\u001b[0m\u001b[0;34m\u001b[0m\u001b[0m\n\u001b[0m\u001b[1;32m      3\u001b[0m \u001b[0mtokens_pos\u001b[0m \u001b[0;34m=\u001b[0m \u001b[0mpos_tag\u001b[0m\u001b[0;34m(\u001b[0m\u001b[0mtokens\u001b[0m\u001b[0;34m)\u001b[0m\u001b[0;34m\u001b[0m\u001b[0m\n",
      "\u001b[0;31mNameError\u001b[0m: name 'word_tokenize' is not defined"
     ]
    }
   ],
   "source": [
    "s = \"This is a simple sentence\"\n",
    "tokens = nltk.word_tokenize(s) # Generate list of tokens\n",
    "tokens_pos = npos_tag(tokens) "
   ]
  },
  {
   "cell_type": "code",
   "execution_count": 19,
   "metadata": {},
   "outputs": [],
   "source": [
    "from filter.filter import FilterEnglish"
   ]
  },
  {
   "cell_type": "code",
   "execution_count": 21,
   "metadata": {},
   "outputs": [
    {
     "name": "stdout",
     "output_type": "stream",
     "text": [
      "<filter object at 0x7f22c93c88d0>\n"
     ]
    }
   ],
   "source": [
    "from nltk import pos_tag\n",
    "from nltk.tokenize import word_tokenize\n",
    " \n",
    "s = \"This is a simple sentence\"\n",
    "tokens = FilterEnglish().get_tokens(text) # Generate list of tokens\n",
    "print(tokens)\n",
    "tokens_pos = pos_tag(tokens)\n",
    "\n",
    " \n",
    "for pair in zip(\n",
    "    sorted(pos_tag(tokens)),\n",
    "    sorted(pos_tag(sorted(tokens)))):\n",
    "    if pair[0][1] != pair[1][1]:\n",
    "        print (pair)"
   ]
  },
  {
   "cell_type": "code",
   "execution_count": 4,
   "metadata": {},
   "outputs": [],
   "source": [
    "import nltk"
   ]
  },
  {
   "cell_type": "code",
   "execution_count": 5,
   "metadata": {},
   "outputs": [
    {
     "name": "stdout",
     "output_type": "stream",
     "text": [
      "showing info https://raw.githubusercontent.com/nltk/nltk_data/gh-pages/index.xml\n"
     ]
    },
    {
     "data": {
      "text/plain": [
       "True"
      ]
     },
     "execution_count": 5,
     "metadata": {},
     "output_type": "execute_result"
    }
   ],
   "source": [
    "nltk.download()"
   ]
  },
  {
   "cell_type": "code",
   "execution_count": null,
   "metadata": {},
   "outputs": [],
   "source": []
  }
 ],
 "metadata": {
  "kernelspec": {
   "display_name": "Python 3",
   "language": "python",
   "name": "python3"
  },
  "language_info": {
   "codemirror_mode": {
    "name": "ipython",
    "version": 3
   },
   "file_extension": ".py",
   "mimetype": "text/x-python",
   "name": "python",
   "nbconvert_exporter": "python",
   "pygments_lexer": "ipython3",
   "version": "3.5.3"
  }
 },
 "nbformat": 4,
 "nbformat_minor": 2
}
