{
 "cells": [
  {
   "cell_type": "code",
   "execution_count": 15,
   "metadata": {},
   "outputs": [
    {
     "data": {
      "text/plain": [
       "'0.9.0'"
      ]
     },
     "execution_count": 15,
     "metadata": {},
     "output_type": "execute_result"
    }
   ],
   "source": [
    "artm.version()"
   ]
  },
  {
   "cell_type": "code",
   "execution_count": 1,
   "metadata": {},
   "outputs": [],
   "source": [
    "import artm\n",
    "import glob\n",
    "import os\n",
    "import artm\n",
    "import glob #module gives an opp to search for a file with a particular regex\n",
    "import os"
   ]
  },
  {
   "cell_type": "code",
   "execution_count": 3,
   "metadata": {},
   "outputs": [],
   "source": [
    "from matplotlib import pyplot as plt\n",
    "%matplotlib inline"
   ]
  },
  {
   "cell_type": "code",
   "execution_count": 6,
   "metadata": {},
   "outputs": [],
   "source": [
    "def get_batch_vectorizer(target_batches_folder, data_path):\n",
    "    if not glob.glob(os.path.join(target_batches_folder, \"*\")):\n",
    "        return artm.BatchVectorizer(data_path=data_path,\n",
    "                                                data_format='vowpal_wabbit',\n",
    "                                                collection_name=data_path + '_collection',\n",
    "                                                target_folder=target_batches_folder)\n",
    "    else:\n",
    "        return artm.BatchVectorizer(data_path=target_batches_folder,\n",
    "                                                data_format='batches')\n"
   ]
  },
  {
   "cell_type": "code",
   "execution_count": 7,
   "metadata": {},
   "outputs": [],
   "source": [
    "def get_dict(target_batches_folder):\n",
    "    dict_name = os.path.join(target_batches_folder, \"dict.txt\")\n",
    "    dictionary = artm.Dictionary(name=\"dictionary\")\n",
    "    if not os.path.exists(dict_name):\n",
    "        dictionary.gather(target_batches_folder)\n",
    "        dictionary.save_text(dict_name)\n",
    "    else:\n",
    "        dictionary.load_text(dict_name)\n",
    "    return dictionary\n"
   ]
  },
  {
   "cell_type": "code",
   "execution_count": 8,
   "metadata": {},
   "outputs": [],
   "source": [
    "def print_top_words(model, tracker_name=\"top_tokens\"):\n",
    "    for topic_name in model.topic_names:\n",
    "        print(topic_name + ': ')\n",
    "        if topic_named in last_tokens:\n",
    "            for word in model.score_tracker[tracker_name].last_tokens[topic_name]:\n",
    "                print (word)\n",
    "        else:\n",
    "            print(\"free topic\")\n",
    "        print()\n"
   ]
  },
  {
   "cell_type": "code",
   "execution_count": 9,
   "metadata": {},
   "outputs": [],
   "source": [
    "\n",
    "def generate_topic_names(topic_count, background_topic_count):\n",
    "\n",
    "    background_topics, objective_topics, all_topics = [], [], []\n",
    "    for i in range(topic_count):\n",
    "        topic_name = (\"background_topic_\" + str(i)) if i < background_topic_count \\\n",
    "            else (\"objective_topic_\" + str(i - background_topic_count))\n",
    "        all_topics.append(topic_name)\n",
    "        if i < background_topic_count:\n",
    "            background_topics.append(topic_name)\n",
    "        else:\n",
    "            objective_topics.append(topic_name)\n",
    "    return all_topics, objective_topics, background_topics\n"
   ]
  },
  {
   "cell_type": "code",
   "execution_count": 10,
   "metadata": {},
   "outputs": [],
   "source": [
    "def set_regularizers(model, devided, topic_names,  **regs):\n",
    "    all_topics, objective_topics, background_topics = topic_names\n",
    "    if devided:\n",
    "            if 'objective_sparse_phi' in regs:\n",
    "                    model.regularizers.add(\n",
    "                        artm.SmoothSparsePhiRegularizer(\n",
    "                            name='objective_sparse_phi',\n",
    "                            topic_names=objective_topics,\n",
    "                            tau=regs['objective_sparse_phi']),\n",
    "                        overwrite= True)\n",
    "            if 'objective_sparse_theta' in regs:\n",
    "                    model.regularizers.add(\n",
    "                        artm.SmoothSparseThetaRegularizer(\n",
    "                            name='objective_sparse_theta',\n",
    "                            topic_names=objective_topics,\n",
    "                            tau=regs['objective_sparse_theta']),\n",
    "                        overwrite= True)\n",
    "            if 'background_sparse_phi' in regs:\n",
    "                    model.regularizers.add(\n",
    "                        artm.SmoothSparsePhiRegularizer(\n",
    "                            name='background_sparse_phi',\n",
    "                            topic_names=background_topics,\n",
    "                            tau=regs['background_sparse_phi']),\n",
    "                        overwrite= True)\n",
    "            if 'background_sparse_theta' in regs:\n",
    "                    model.regularizers.add(\n",
    "                        artm.SmoothSparseThetaRegularizer(\n",
    "                            name='background_sparse_theta',\n",
    "                            topic_names=background_topics,\n",
    "                            tau=regs['background_sparse_theta']),\n",
    "                        overwrite=True)\n",
    "    else:\n",
    "        if 'sparse_phi' in regs:\n",
    "                    model.regularizers.add(\n",
    "                        artm.SmoothSparsePhiRegularizer(\n",
    "                            name='sparse_phi',\n",
    "                            tau=regs['sparse_phi']),\n",
    "                        overwrite=True)\n",
    "        if 'sparse_theta' in regs:\n",
    "                    model.regularizers.add(\n",
    "                        artm.SmoothSparseThetaRegularizer(\n",
    "                            name='sparse_theta',\n",
    "                            tau=regs['sparse_theta']),\n",
    "                        overwrite=True)\n",
    "    if  'decorrelator_phi' in regs:\n",
    "            if devided:\n",
    "                model.regularizers.add(\n",
    "                            artm.DecorrelatorPhiRegularizer(\n",
    "                                name='decorrelator_phi',\n",
    "                                topic_names=objective_topics,\n",
    "                                tau=regs['decorrelator_phi']),\n",
    "                            overwrite=True)\n",
    "            else:\n",
    "                model.regularizers.add(\n",
    "                            artm.DecorrelatorPhiRegularizer(\n",
    "                                name='decorrelator_phi',\n",
    "                                tau=regs['decorrelator_phi']),\n",
    "                            overwrite=True)\n",
    "\n"
   ]
  },
  {
   "cell_type": "code",
   "execution_count": 11,
   "metadata": {},
   "outputs": [],
   "source": [
    "def set_scores(model, topic_names, devided=True,  **scores):\n",
    "    #if not ('perplexity_score' in [score.name for\n",
    "    #                               score in model.scores]):\n",
    "    #    model.scores.add(PerplexityScore(name='perplexity_score'))\n",
    "    all_topics, objective_topics ,background_topics = topic_names\n",
    "    if 'top_tokens' in scores:\n",
    "        model.scores.add(artm.TopTokensScore(\n",
    "            name='top_tokens',\n",
    "            num_tokens=scores['top_tokens']),\n",
    "            overwrite= True)\n",
    "    if 'top_tokens_extended' in scores:\n",
    "        model.scores.add(artm.TopTokensScore(\n",
    "            name='top_tokens_extended',\n",
    "            num_tokens=scores['top_tokens_extended']),\n",
    "            overwrite= True)\n",
    "\n",
    "    if devided:\n",
    "            if 'objective_sparsity_phi' in scores:\n",
    "                    model.scores.add(\n",
    "                        artm.SparsityPhiScore(\n",
    "                            name='objective_sparsity_phi',\n",
    "                            topic_names=objective_topics),\n",
    "                        overwrite= True)\n",
    "            if 'objective_sparsity_theta' in scores:\n",
    "                    model.scores.add(\n",
    "                        artm.SparsityThetaScore(\n",
    "                            name='objective_sparsity_theta',\n",
    "                            topic_names=objective_topics),\n",
    "                        overwrite= True)\n",
    "            if 'background_sparsity_phi' in scores:\n",
    "                    model.scores.add(\n",
    "                        artm.SparsityPhiScore(\n",
    "                            name='background_sparsity_phi',\n",
    "                            topic_names=background_topics),\n",
    "                        overwrite= True)\n",
    "            if 'background_sparsityity_theta' in scores:\n",
    "                    model.scores.add(\n",
    "                        artm.SparsityThetaScore(\n",
    "                            name='background_sparsity_theta',\n",
    "                            topic_names=background_topics),\n",
    "                        overwrite=True)\n",
    "    else:\n",
    "        if 'sparsity_phi' in scores:\n",
    "                    print ('if sparsity_phi in scores:')\n",
    "                    model.scores.add(\n",
    "                        artm.SparsityPhiScore(\n",
    "                            name='sparsity_phi'),\n",
    "                        overwrite=True)\n",
    "        if 'sparsity_theta' in scores:\n",
    "                    print ('sparsity_theta  in scores')\n",
    "                    model.scores.add(\n",
    "                        artm.SparsityThetaScore(\n",
    "                            name='sparsity_theta'),\n",
    "                        overwrite=True)\n",
    "\n"
   ]
  },
  {
   "cell_type": "code",
   "execution_count": 12,
   "metadata": {},
   "outputs": [],
   "source": [
    "\n",
    "def get_scores(topic_names):\n",
    "    # background_topics = (background_topics if background_topics else topics_amount//10)\n",
    "\n",
    "    all_topics, objective_topics, background_topics = topic_names\n",
    "    print(\"get_scores\", all_topics)\n",
    "    print(\"get scores : \" , background_topics)\n",
    "    print (\"get_scores : \" , objective_topics)\n",
    "\n",
    "    scores_list=[]\n",
    "    scores_list.append(artm.PerplexityScore(name='objective_perplexity_score',\n",
    "                                            topic_names=objective_topics))\n",
    "    scores_list.append(artm.SparsityPhiScore(name='objective_sparsity_phi',\n",
    "                                             topic_names=objective_topics))\n",
    "    scores_list.append(artm.SparsityThetaScore(name='objective_sparsity_theta',\n",
    "                                               topic_names=objective_topics))\n",
    "\n",
    "    scores_list.append(artm.PerplexityScore(name='perplexity_score',\n",
    "                                            topic_names=all_topics))\n",
    "\n",
    "    scores_list.append(artm.SparsityThetaScore(name='background_sparsity_theta',\n",
    "                                               topic_names=background_topics))\n",
    "    scores_list.append(artm.SparsityPhiScore(name='background_sparsity_phi',\n",
    "                                               topic_names=background_topics))\n",
    "    scores_list.append(artm.TopTokensScore(name=\"top_words\",\n",
    "                                              num_tokens=10, topic_names=objective_topics))\n",
    "    return scores_list\n",
    "\n"
   ]
  },
  {
   "cell_type": "markdown",
   "metadata": {},
   "source": [
    "## Get Batch vectorizer"
   ]
  },
  {
   "cell_type": "code",
   "execution_count": 13,
   "metadata": {},
   "outputs": [
    {
     "ename": "DiskReadException",
     "evalue": "File kyky.txt does not exist.",
     "output_type": "error",
     "traceback": [
      "\u001b[0;31m---------------------------------------------------------------------------\u001b[0m",
      "\u001b[0;31mDiskReadException\u001b[0m                         Traceback (most recent call last)",
      "\u001b[0;32m<ipython-input-13-9bf9da9f4423>\u001b[0m in \u001b[0;36m<module>\u001b[0;34m()\u001b[0m\n\u001b[0;32m----> 1\u001b[0;31m \u001b[0mbatch_vectorizer\u001b[0m \u001b[0;34m=\u001b[0m \u001b[0mget_batch_vectorizer\u001b[0m\u001b[0;34m(\u001b[0m\u001b[0;34m\"kyky_batches\"\u001b[0m\u001b[0;34m,\u001b[0m \u001b[0;34m\"kyky.txt\"\u001b[0m\u001b[0;34m)\u001b[0m\u001b[0;34m\u001b[0m\u001b[0m\n\u001b[0m",
      "\u001b[0;32m<ipython-input-6-d9f0bc9ce690>\u001b[0m in \u001b[0;36mget_batch_vectorizer\u001b[0;34m(target_batches_folder, data_path)\u001b[0m\n\u001b[1;32m      4\u001b[0m                                                 \u001b[0mdata_format\u001b[0m\u001b[0;34m=\u001b[0m\u001b[0;34m'vowpal_wabbit'\u001b[0m\u001b[0;34m,\u001b[0m\u001b[0;34m\u001b[0m\u001b[0m\n\u001b[1;32m      5\u001b[0m                                                 \u001b[0mcollection_name\u001b[0m\u001b[0;34m=\u001b[0m\u001b[0mdata_path\u001b[0m \u001b[0;34m+\u001b[0m \u001b[0;34m'_collection'\u001b[0m\u001b[0;34m,\u001b[0m\u001b[0;34m\u001b[0m\u001b[0m\n\u001b[0;32m----> 6\u001b[0;31m                                                 target_folder=target_batches_folder)\n\u001b[0m\u001b[1;32m      7\u001b[0m     \u001b[0;32melse\u001b[0m\u001b[0;34m:\u001b[0m\u001b[0;34m\u001b[0m\u001b[0m\n\u001b[1;32m      8\u001b[0m         return artm.BatchVectorizer(data_path=target_batches_folder,\n",
      "\u001b[0;32m/usr/local/lib/python3.5/dist-packages/bigartm-0.9.0-py3.5.egg/artm/batches_utils.py\u001b[0m in \u001b[0;36m__init__\u001b[0;34m(self, batches, collection_name, data_path, data_format, target_folder, batch_size, batch_name_type, data_weight, n_wd, vocabulary, gather_dictionary, class_ids, process_in_memory_model)\u001b[0m\n\u001b[1;32m    109\u001b[0m             \u001b[0mself\u001b[0m\u001b[0;34m.\u001b[0m\u001b[0m_parse_batches\u001b[0m\u001b[0;34m(\u001b[0m\u001b[0mdata_weight\u001b[0m\u001b[0;34m=\u001b[0m\u001b[0mdata_weight\u001b[0m\u001b[0;34m,\u001b[0m \u001b[0mbatches\u001b[0m\u001b[0;34m=\u001b[0m\u001b[0mbatches\u001b[0m\u001b[0;34m)\u001b[0m\u001b[0;34m\u001b[0m\u001b[0m\n\u001b[1;32m    110\u001b[0m         \u001b[0;32melif\u001b[0m \u001b[0mdata_format\u001b[0m \u001b[0;34m==\u001b[0m \u001b[0;34m'vowpal_wabbit'\u001b[0m\u001b[0;34m:\u001b[0m\u001b[0;34m\u001b[0m\u001b[0m\n\u001b[0;32m--> 111\u001b[0;31m             \u001b[0mself\u001b[0m\u001b[0;34m.\u001b[0m\u001b[0m_parse_uci_or_vw\u001b[0m\u001b[0;34m(\u001b[0m\u001b[0mdata_weight\u001b[0m\u001b[0;34m=\u001b[0m\u001b[0mdata_weight\u001b[0m\u001b[0;34m,\u001b[0m \u001b[0mformat\u001b[0m\u001b[0;34m=\u001b[0m\u001b[0;34m'vw'\u001b[0m\u001b[0;34m,\u001b[0m \u001b[0mclass_ids\u001b[0m\u001b[0;34m=\u001b[0m\u001b[0mclass_ids\u001b[0m\u001b[0;34m)\u001b[0m\u001b[0;34m\u001b[0m\u001b[0m\n\u001b[0m\u001b[1;32m    112\u001b[0m         \u001b[0;32melif\u001b[0m \u001b[0mdata_format\u001b[0m \u001b[0;34m==\u001b[0m \u001b[0;34m'bow_uci'\u001b[0m\u001b[0;34m:\u001b[0m\u001b[0;34m\u001b[0m\u001b[0m\n\u001b[1;32m    113\u001b[0m             self._parse_uci_or_vw(data_weight=data_weight,\n",
      "\u001b[0;32m/usr/local/lib/python3.5/dist-packages/bigartm-0.9.0-py3.5.egg/artm/batches_utils.py\u001b[0m in \u001b[0;36m_parse_uci_or_vw\u001b[0;34m(self, data_weight, format, col_name, batch_name_type, class_ids)\u001b[0m\n\u001b[1;32m    189\u001b[0m \u001b[0;34m\u001b[0m\u001b[0m\n\u001b[1;32m    190\u001b[0m             \u001b[0mlib\u001b[0m \u001b[0;34m=\u001b[0m \u001b[0mwrapper\u001b[0m\u001b[0;34m.\u001b[0m\u001b[0mLibArtm\u001b[0m\u001b[0;34m(\u001b[0m\u001b[0;34m)\u001b[0m\u001b[0;34m\u001b[0m\u001b[0m\n\u001b[0;32m--> 191\u001b[0;31m             \u001b[0mlib\u001b[0m\u001b[0;34m.\u001b[0m\u001b[0mArtmParseCollection\u001b[0m\u001b[0;34m(\u001b[0m\u001b[0mparser_config\u001b[0m\u001b[0;34m)\u001b[0m\u001b[0;34m\u001b[0m\u001b[0m\n\u001b[0m\u001b[1;32m    192\u001b[0m             \u001b[0mbatch_filenames\u001b[0m \u001b[0;34m=\u001b[0m \u001b[0mglob\u001b[0m\u001b[0;34m.\u001b[0m\u001b[0mglob\u001b[0m\u001b[0;34m(\u001b[0m\u001b[0mos\u001b[0m\u001b[0;34m.\u001b[0m\u001b[0mpath\u001b[0m\u001b[0;34m.\u001b[0m\u001b[0mjoin\u001b[0m\u001b[0;34m(\u001b[0m\u001b[0mtarget_f\u001b[0m\u001b[0;34m,\u001b[0m \u001b[0;34m'*.batch'\u001b[0m\u001b[0;34m)\u001b[0m\u001b[0;34m)\u001b[0m\u001b[0;34m\u001b[0m\u001b[0m\n\u001b[1;32m    193\u001b[0m             \u001b[0mself\u001b[0m\u001b[0;34m.\u001b[0m\u001b[0m_batches_list\u001b[0m \u001b[0;34m+=\u001b[0m \u001b[0;34m[\u001b[0m\u001b[0mBatch\u001b[0m\u001b[0;34m(\u001b[0m\u001b[0mfilename\u001b[0m\u001b[0;34m)\u001b[0m \u001b[0;32mfor\u001b[0m \u001b[0mfilename\u001b[0m \u001b[0;32min\u001b[0m \u001b[0mbatch_filenames\u001b[0m\u001b[0;34m]\u001b[0m\u001b[0;34m\u001b[0m\u001b[0m\n",
      "\u001b[0;32m/usr/local/lib/python3.5/dist-packages/bigartm-0.9.0-py3.5.egg/artm/wrapper/api.py\u001b[0m in \u001b[0;36martm_api_call\u001b[0;34m(*args)\u001b[0m\n\u001b[1;32m    159\u001b[0m                 \u001b[0mfunc\u001b[0m\u001b[0;34m.\u001b[0m\u001b[0mrestype\u001b[0m \u001b[0;34m=\u001b[0m \u001b[0mspec\u001b[0m\u001b[0;34m.\u001b[0m\u001b[0mresult_type\u001b[0m\u001b[0;34m\u001b[0m\u001b[0m\n\u001b[1;32m    160\u001b[0m             \u001b[0mresult\u001b[0m \u001b[0;34m=\u001b[0m \u001b[0mfunc\u001b[0m\u001b[0;34m(\u001b[0m\u001b[0;34m*\u001b[0m\u001b[0mc_args\u001b[0m\u001b[0;34m)\u001b[0m\u001b[0;34m\u001b[0m\u001b[0m\n\u001b[0;32m--> 161\u001b[0;31m             \u001b[0mself\u001b[0m\u001b[0;34m.\u001b[0m\u001b[0m_check_error\u001b[0m\u001b[0;34m(\u001b[0m\u001b[0mresult\u001b[0m\u001b[0;34m)\u001b[0m\u001b[0;34m\u001b[0m\u001b[0m\n\u001b[0m\u001b[1;32m    162\u001b[0m \u001b[0;34m\u001b[0m\u001b[0m\n\u001b[1;32m    163\u001b[0m             \u001b[0;31m# return result value\u001b[0m\u001b[0;34m\u001b[0m\u001b[0;34m\u001b[0m\u001b[0m\n",
      "\u001b[0;32m/usr/local/lib/python3.5/dist-packages/bigartm-0.9.0-py3.5.egg/artm/wrapper/api.py\u001b[0m in \u001b[0;36m_check_error\u001b[0;34m(self, error_code)\u001b[0m\n\u001b[1;32m     95\u001b[0m             \u001b[0mexception_class\u001b[0m \u001b[0;34m=\u001b[0m \u001b[0mARTM_EXCEPTION_BY_CODE\u001b[0m\u001b[0;34m.\u001b[0m\u001b[0mget\u001b[0m\u001b[0;34m(\u001b[0m\u001b[0merror_code\u001b[0m\u001b[0;34m)\u001b[0m\u001b[0;34m\u001b[0m\u001b[0m\n\u001b[1;32m     96\u001b[0m             \u001b[0;32mif\u001b[0m \u001b[0mexception_class\u001b[0m \u001b[0;32mis\u001b[0m \u001b[0;32mnot\u001b[0m \u001b[0;32mNone\u001b[0m\u001b[0;34m:\u001b[0m\u001b[0;34m\u001b[0m\u001b[0m\n\u001b[0;32m---> 97\u001b[0;31m                 \u001b[0;32mraise\u001b[0m \u001b[0mexception_class\u001b[0m\u001b[0;34m(\u001b[0m\u001b[0merror_message\u001b[0m\u001b[0;34m)\u001b[0m\u001b[0;34m\u001b[0m\u001b[0m\n\u001b[0m\u001b[1;32m     98\u001b[0m             \u001b[0;32melse\u001b[0m\u001b[0;34m:\u001b[0m\u001b[0;34m\u001b[0m\u001b[0m\n\u001b[1;32m     99\u001b[0m                 \u001b[0;32mraise\u001b[0m \u001b[0mRuntimeError\u001b[0m\u001b[0;34m(\u001b[0m\u001b[0merror_message\u001b[0m\u001b[0;34m)\u001b[0m\u001b[0;34m\u001b[0m\u001b[0m\n",
      "\u001b[0;31mDiskReadException\u001b[0m: File kyky.txt does not exist."
     ]
    }
   ],
   "source": [
    "batch_vectorizer = get_batch_vectorizer(\"kyky_batches\", \"kyky.txt\")"
   ]
  },
  {
   "cell_type": "code",
   "execution_count": 11,
   "metadata": {
    "collapsed": true
   },
   "outputs": [],
   "source": [
    "dictionary=get_dict(\"kyky_batches\")"
   ]
  },
  {
   "cell_type": "code",
   "execution_count": null,
   "metadata": {
    "collapsed": true
   },
   "outputs": [],
   "source": []
  },
  {
   "cell_type": "code",
   "execution_count": 12,
   "metadata": {
    "collapsed": true
   },
   "outputs": [],
   "source": [
    "T = 24\n",
    "topic_names = generate_topic_names(T, 8)\n",
    "all_topics, objective_topics, background_topics = topic_names"
   ]
  },
  {
   "cell_type": "code",
   "execution_count": null,
   "metadata": {
    "collapsed": true
   },
   "outputs": [],
   "source": []
  },
  {
   "cell_type": "code",
   "execution_count": 13,
   "metadata": {
    "collapsed": true
   },
   "outputs": [],
   "source": [
    "devided_model = artm.ARTM(num_topics=T,\n",
    "                          topic_names = topic_names[0],\n",
    "                          cache_theta=True,\n",
    "                          reuse_theta=True,\n",
    "                          theta_columns_naming=\"title\",\n",
    "                          seed=4242,\n",
    "                          num_document_passes=20,\n",
    "                          num_processors = 10,\n",
    "                          class_ids = {\"@content\" :1, \"@title\":15, \"@category_id\" : 200})\n",
    "\n",
    "devided_model.initialize(dictionary)\n"
   ]
  },
  {
   "cell_type": "code",
   "execution_count": 14,
   "metadata": {
    "collapsed": true
   },
   "outputs": [],
   "source": [
    "_num_tokens =15"
   ]
  },
  {
   "cell_type": "markdown",
   "metadata": {},
   "source": [
    "##                                                 add some scores"
   ]
  },
  {
   "cell_type": "code",
   "execution_count": 15,
   "metadata": {
    "collapsed": true
   },
   "outputs": [],
   "source": [
    "devided_model.scores.add(artm.PerplexityScore(name='perplexity_score'))"
   ]
  },
  {
   "cell_type": "markdown",
   "metadata": {},
   "source": [
    "### top tokens score"
   ]
  },
  {
   "cell_type": "code",
   "execution_count": 16,
   "metadata": {
    "collapsed": true
   },
   "outputs": [],
   "source": [
    "devided_model.scores.add(\n",
    "    artm.TopTokensScore(\n",
    "        name='top_tokens',\n",
    "        num_tokens=_num_tokens, \n",
    "        class_id=\"@content\", \n",
    "        topic_names=all_topics,\n",
    "        ),overwrite=True)\n"
   ]
  },
  {
   "cell_type": "markdown",
   "metadata": {},
   "source": [
    "### objective_sparsity scores"
   ]
  },
  {
   "cell_type": "code",
   "execution_count": 18,
   "metadata": {
    "collapsed": true
   },
   "outputs": [],
   "source": [
    "devided_model.scores.add(\n",
    "    artm.SparsityPhiScore(\n",
    "        name='objective_sparsity_phi', \n",
    "        topic_names=objective_topics), overwrite=True)\n",
    "devided_model.scores.add(\n",
    "    artm.SparsityThetaScore(\n",
    "        name='objective_sparsity_theta',\n",
    "        topic_names=objective_topics),overwrite=True)"
   ]
  },
  {
   "cell_type": "markdown",
   "metadata": {},
   "source": [
    "### background_sparsity scores"
   ]
  },
  {
   "cell_type": "code",
   "execution_count": 19,
   "metadata": {
    "collapsed": true
   },
   "outputs": [],
   "source": [
    "devided_model.scores.add(\n",
    "        artm.SparsityPhiScore(\n",
    "            name='background_sparsity_phi',\n",
    "            topic_names=background_topics))\n",
    "devided_model.scores.add(\n",
    "    artm.SparsityThetaScore(\n",
    "        name='background_sparsity_theta',\n",
    "        topic_names=background_topics),overwrite=True)"
   ]
  },
  {
   "cell_type": "markdown",
   "metadata": {},
   "source": [
    "## add regulirizers"
   ]
  },
  {
   "cell_type": "code",
   "execution_count": 20,
   "metadata": {
    "collapsed": true
   },
   "outputs": [],
   "source": [
    "regs = {\n",
    "    \"objective_sparse_phi\":-30,\n",
    "    'objective_sparse_theta':-10,   \n",
    "    'background_sparse_phi':2, \n",
    "    'background_sparse_theta':-12,\n",
    "    'decorrelator_phi':400\n",
    "}"
   ]
  },
  {
   "cell_type": "markdown",
   "metadata": {},
   "source": [
    "### add objective regulirizers"
   ]
  },
  {
   "cell_type": "code",
   "execution_count": 21,
   "metadata": {
    "collapsed": true
   },
   "outputs": [],
   "source": [
    "devided_model.regularizers.add(\n",
    "                        artm.SmoothSparsePhiRegularizer(\n",
    "                            name='objective_sparse_phi',\n",
    "                            topic_names=objective_topics,\n",
    "                            tau=regs['objective_sparse_phi']),overwrite=True)\n",
    "devided_model.regularizers.add(\n",
    "                        artm.SmoothSparseThetaRegularizer(\n",
    "                            name='objective_sparse_theta',\n",
    "                            topic_names=objective_topics,\n",
    "                            tau=regs['objective_sparse_theta']),overwrite=True)"
   ]
  },
  {
   "cell_type": "markdown",
   "metadata": {},
   "source": [
    "### add background regulirizers"
   ]
  },
  {
   "cell_type": "code",
   "execution_count": 22,
   "metadata": {
    "collapsed": true
   },
   "outputs": [],
   "source": [
    "devided_model.regularizers.add(\n",
    "                        artm.SmoothSparsePhiRegularizer(\n",
    "                            name='background_sparse_phi',\n",
    "                            topic_names=background_topics,\n",
    "                            tau=regs['background_sparse_phi']),\n",
    "                            overwrite= True)\n",
    "devided_model.regularizers.add(\n",
    "                        artm.SmoothSparseThetaRegularizer(\n",
    "                            name='background_sparse_theta',\n",
    "                            topic_names=background_topics,\n",
    "                            tau=regs['background_sparse_theta']),\n",
    "                            overwrite=True)"
   ]
  },
  {
   "cell_type": "markdown",
   "metadata": {},
   "source": [
    "### add decorrelator"
   ]
  },
  {
   "cell_type": "code",
   "execution_count": 23,
   "metadata": {
    "collapsed": true
   },
   "outputs": [],
   "source": [
    "devided_model.regularizers.add(\n",
    "            artm.DecorrelatorPhiRegularizer(\n",
    "                name='decorrelator_phi',\n",
    "                topic_names=objective_topics,\n",
    "                tau=regs['decorrelator_phi'],class_ids =[\"@category_id\", \"@content\"]),overwrite=True)"
   ]
  },
  {
   "cell_type": "markdown",
   "metadata": {},
   "source": [
    "## reinitialize"
   ]
  },
  {
   "cell_type": "code",
   "execution_count": 24,
   "metadata": {
    "collapsed": true
   },
   "outputs": [],
   "source": [
    "devided_model.initialize(dictionary)"
   ]
  },
  {
   "cell_type": "markdown",
   "metadata": {},
   "source": [
    "### fit offline"
   ]
  },
  {
   "cell_type": "code",
   "execution_count": 25,
   "metadata": {
    "collapsed": true
   },
   "outputs": [],
   "source": [
    "devided_model.fit_offline(batch_vectorizer=batch_vectorizer, num_collection_passes=30)"
   ]
  },
  {
   "cell_type": "code",
   "execution_count": 26,
   "metadata": {},
   "outputs": [
    {
     "data": {
      "text/plain": [
       "dict_keys(['background_topic_0', 'background_topic_7', 'objective_topic_11', 'objective_topic_15', 'background_topic_1', 'objective_topic_5', 'objective_topic_2', 'background_topic_4', 'objective_topic_0', 'objective_topic_1', 'objective_topic_3', 'background_topic_2', 'objective_topic_7', 'objective_topic_4', 'objective_topic_13', 'background_topic_5', 'objective_topic_9', 'objective_topic_10', 'objective_topic_8', 'background_topic_6', 'objective_topic_6', 'objective_topic_12', 'objective_topic_14', 'background_topic_3'])"
      ]
     },
     "execution_count": 26,
     "metadata": {},
     "output_type": "execute_result"
    }
   ],
   "source": [
    "devided_model.score_tracker['top_tokens'].last_tokens.keys()"
   ]
  },
  {
   "cell_type": "code",
   "execution_count": 27,
   "metadata": {},
   "outputs": [
    {
     "name": "stdout",
     "output_type": "stream",
     "text": [
      "background_topic_0: ян ала калі чурко месец наваколл тема гэта мян яго пра толькі мексика самый таму\n",
      "background_topic_1: сторона остаться собака равно миллион любить российский пойти организация относиться amp народ нога уйти район\n",
      "background_topic_2: гэта калі ала ян пра быў дзе есць ўсе каб вельмі вося трэб яго толькі\n",
      "background_topic_3: музыка ольга поп студия ломакин творчество ник оскорбление концерт альбом левон лёша брод фестиваль сцена\n",
      "background_topic_4: гэта ала калі ян пра одежда мян быў ўсе электромобиль готовый индия деревня час сад\n",
      "background_topic_5: гэта ала калі ян любить играть сторона пра университет остаться каб идея трэб современный равно\n",
      "background_topic_6: ян гэта ала калі пра яго каб час быў новый яшчэ свая мян толькі уса\n",
      "background_topic_7: дать готовый 10 сторона простой производство жить одежда любить реальный прийти получиться вино рост программист\n",
      "objective_topic_0: свой самый минск большой место хороший тема город делать работать работа друг говорить сделать дом\n",
      "objective_topic_1: фильм свой самый делать большой работа хороший белорусский структуризация работать говорить беларусь например стать смотреть\n",
      "objective_topic_2: женщина мужчина свой секс девушка самый тема большой делать стать отношение говорить хороший должный сексуальный\n",
      "objective_topic_3: ресторан официант лукашенко суп\n",
      "objective_topic_4: фотография кино премия фестиваль национальный манифест исторический\n",
      "objective_topic_5: ребёнок женщина мама врач костя роды крым любить вино свой сторона играть пойти категория равно\n",
      "objective_topic_6: свой фильм самый хороший тема работа большой стать белорусский говорить делать музыка группа беларусь работать\n",
      "objective_topic_7: свой тема самый большой беларусь стать kyky хороший говорить делать ребёнок страна работать работа знать\n",
      "objective_topic_8: kyky тема новый беларусь музыка идти страна например смотреть свой знать любить событие фильм самый\n",
      "objective_topic_9: свой самый музыка хороший большой делать стать группа говорить белорусский мир работать знать альбом ребёнок\n",
      "objective_topic_10: искусство художник выставка работа проект современный галерея свой пространство делать\n",
      "objective_topic_11: свой kyky самый большой беларусь белорусский стать хороший говорить знать думать друг минск жить мир\n",
      "objective_topic_12: свой работать большой делать беларусь бизнес компания самый работа kyky тема деньга хороший сделать стать\n",
      "objective_topic_13: андрей свой делать говорить большой работать работа думать проект самый сделать дизайнер мир друг жить\n",
      "objective_topic_14: стас мама\n",
      "objective_topic_15: город amp минск здание музей площадь пространство культурный\n",
      "Perplexity: 941.9035161291206\n",
      "                background_topic_0  background_topic_1  background_topic_2  \\\n",
      "харэўскімфойе             0.000006            0.000004            0.000005   \n",
      "изумлять                  0.000006            0.000004            0.000005   \n",
      "дальнобойный              0.000006            0.000004            0.000005   \n",
      "савинкова                 0.000006            0.000004            0.000005   \n",
      "погранпункт               0.000006            0.000004            0.000005   \n",
      "мельниковкогда            0.000006            0.000004            0.000005   \n",
      "дотерный                  0.000006            0.000007            0.000005   \n",
      "pgg                       0.000006            0.000005            0.000005   \n",
      "даззло                    0.000006            0.000005            0.000005   \n",
      "кулдаун                   0.000006            0.000007            0.000005   \n",
      "кибертурнир               0.000006            0.000007            0.000005   \n",
      "инвайта                   0.000006            0.000005            0.000005   \n",
      "иллюминэйт                0.000006            0.000007            0.000005   \n",
      "aegis                     0.000006            0.000007            0.000005   \n",
      "valve                     0.000006            0.000005            0.000005   \n",
      "studanal                  0.000006            0.000005            0.000005   \n",
      "kotl                      0.000006            0.000007            0.000005   \n",
      "v1lat                     0.000006            0.000007            0.000005   \n",
      "na'vi                     0.000006            0.000011            0.000005   \n",
      "стат                      0.000006            0.000007            0.000005   \n",
      "несчитать                 0.000006            0.000005            0.000005   \n",
      "студанал                  0.000006            0.000005            0.000005   \n",
      "natus                     0.000006            0.000005            0.000005   \n",
      "такоекром                 0.000006            0.000005            0.000005   \n",
      "gaming                    0.000006            0.000009            0.000005   \n",
      "смысл_1                   0.000006            0.000005            0.000005   \n",
      "godhunt                   0.000006            0.000005            0.000005   \n",
      "офсайд                    0.000006            0.000005            0.000005   \n",
      "аганить                   0.000006            0.000007            0.000005   \n",
      "пивоварение               0.000763            0.000033            0.000069   \n",
      "...                            ...                 ...                 ...   \n",
      "перемножить               0.000010            0.000004            0.000005   \n",
      "бензинафренсис            0.000006            0.000004            0.000005   \n",
      "мошка                     0.000006            0.000004            0.000005   \n",
      "крепелина                 0.000006            0.000004            0.000005   \n",
      "ипохорский                0.000006            0.000004            0.000005   \n",
      "предмет                   0.000090            0.000282            0.000069   \n",
      "рюмка                     0.000090            0.000033            0.000069   \n",
      "тимлида                   0.000006            0.000004            0.000005   \n",
      "бейлиз                    0.000006            0.000004            0.000005   \n",
      "сангия                    0.000006            0.000004            0.000005   \n",
      "депортировать             0.000010            0.000019            0.000011   \n",
      "magazineпервое            0.000006            0.000004            0.000005   \n",
      "подворачивать             0.000006            0.000009            0.000005   \n",
      "джеймсонвота              0.000006            0.000004            0.000005   \n",
      "частицна                  0.000006            0.000004            0.000005   \n",
      "хромированный             0.000006            0.000004            0.000005   \n",
      "маять                     0.000006            0.000004            0.000005   \n",
      "полирнуться               0.000006            0.000004            0.000005   \n",
      "haters                    0.000006            0.000004            0.000005   \n",
      "двигать                   0.000006            0.000028            0.000030   \n",
      "martell                   0.000006            0.000004            0.000005   \n",
      "асинхронный               0.000006            0.000004            0.000005   \n",
      "отъ                       0.000006            0.000004            0.000005   \n",
      "лопеза                    0.000006            0.000004            0.000005   \n",
      "ўступіў                   0.000006            0.000004            0.000005   \n",
      "специнструмент            0.000006            0.000004            0.000005   \n",
      "мескалем                  0.000006            0.000004            0.000005   \n",
      "cherry                    0.000006            0.000004            0.000005   \n",
      "dolboeb                   0.000006            0.000004            0.000005   \n",
      "wolfe                     0.000006            0.000004            0.000005   \n",
      "\n",
      "                background_topic_3  background_topic_4  background_topic_5  \\\n",
      "харэўскімфойе             0.000006            0.000006            0.000004   \n",
      "изумлять                  0.000006            0.000006            0.000004   \n",
      "дальнобойный              0.000006            0.000006            0.000004   \n",
      "савинкова                 0.000006            0.000006            0.000004   \n",
      "погранпункт               0.000006            0.000006            0.000004   \n",
      "мельниковкогда            0.000006            0.000006            0.000004   \n",
      "дотерный                  0.000006            0.000006            0.000004   \n",
      "pgg                       0.000006            0.000006            0.000004   \n",
      "даззло                    0.000006            0.000006            0.000004   \n",
      "кулдаун                   0.000006            0.000006            0.000004   \n",
      "кибертурнир               0.000006            0.000006            0.000004   \n",
      "инвайта                   0.000006            0.000006            0.000004   \n",
      "иллюминэйт                0.000006            0.000006            0.000004   \n",
      "aegis                     0.000006            0.000006            0.000004   \n",
      "valve                     0.000006            0.000006            0.000004   \n",
      "studanal                  0.000006            0.000006            0.000004   \n",
      "kotl                      0.000006            0.000006            0.000004   \n",
      "v1lat                     0.000006            0.000006            0.000004   \n",
      "na'vi                     0.000006            0.000006            0.000004   \n",
      "стат                      0.000006            0.000006            0.000004   \n",
      "несчитать                 0.000006            0.000006            0.000004   \n",
      "студанал                  0.000006            0.000006            0.000004   \n",
      "natus                     0.000006            0.000006            0.000004   \n",
      "такоекром                 0.000006            0.000006            0.000004   \n",
      "gaming                    0.000006            0.000006            0.000004   \n",
      "смысл_1                   0.000006            0.000006            0.000004   \n",
      "godhunt                   0.000006            0.000006            0.000004   \n",
      "офсайд                    0.000006            0.000006            0.000004   \n",
      "аганить                   0.000006            0.000006            0.000004   \n",
      "пивоварение               0.000096            0.000079            0.000047   \n",
      "...                            ...                 ...                 ...   \n",
      "перемножить               0.000006            0.000006            0.000004   \n",
      "бензинафренсис            0.000006            0.000006            0.000004   \n",
      "мошка                     0.000006            0.000009            0.000004   \n",
      "крепелина                 0.000006            0.000006            0.000004   \n",
      "ипохорский                0.000006            0.000006            0.000004   \n",
      "предмет                   0.000096            0.000079            0.000047   \n",
      "рюмка                     0.000096            0.000079            0.000047   \n",
      "тимлида                   0.000006            0.000006            0.000004   \n",
      "бейлиз                    0.000006            0.000006            0.000004   \n",
      "сангия                    0.000006            0.000006            0.000004   \n",
      "депортировать             0.000006            0.000006            0.000004   \n",
      "magazineпервое            0.000006            0.000006            0.000004   \n",
      "подворачивать             0.000006            0.000006            0.000009   \n",
      "джеймсонвота              0.000006            0.000006            0.000004   \n",
      "частицна                  0.000006            0.000006            0.000007   \n",
      "хромированный             0.000006            0.000006            0.000004   \n",
      "маять                     0.000006            0.000006            0.000004   \n",
      "полирнуться               0.000006            0.000006            0.000004   \n",
      "haters                    0.000006            0.000009            0.000004   \n",
      "двигать                   0.000022            0.000009            0.000027   \n",
      "martell                   0.000006            0.000006            0.000004   \n",
      "асинхронный               0.000006            0.000012            0.000004   \n",
      "отъ                       0.000006            0.000006            0.000004   \n",
      "лопеза                    0.000006            0.000006            0.000004   \n",
      "ўступіў                   0.000006            0.000006            0.000004   \n",
      "специнструмент            0.000006            0.000006            0.000004   \n",
      "мескалем                  0.000006            0.000006            0.000004   \n",
      "cherry                    0.000006            0.000006            0.000004   \n",
      "dolboeb                   0.000006            0.000006            0.000004   \n",
      "wolfe                     0.000006            0.000006            0.000007   \n",
      "\n",
      "                background_topic_6  background_topic_7  objective_topic_0  \\\n",
      "харэўскімфойе             0.000004            0.000004                0.0   \n",
      "изумлять                  0.000004            0.000004                0.0   \n",
      "дальнобойный              0.000004            0.000004                0.0   \n",
      "савинкова                 0.000004            0.000004                0.0   \n",
      "погранпункт               0.000004            0.000004                0.0   \n",
      "мельниковкогда            0.000004            0.000004                0.0   \n",
      "дотерный                  0.000004            0.000004                0.0   \n",
      "pgg                       0.000004            0.000004                0.0   \n",
      "даззло                    0.000004            0.000004                0.0   \n",
      "кулдаун                   0.000004            0.000004                0.0   \n",
      "кибертурнир               0.000004            0.000004                0.0   \n",
      "инвайта                   0.000004            0.000004                0.0   \n",
      "иллюминэйт                0.000004            0.000004                0.0   \n",
      "aegis                     0.000004            0.000004                0.0   \n",
      "valve                     0.000004            0.000004                0.0   \n",
      "studanal                  0.000004            0.000004                0.0   \n",
      "kotl                      0.000004            0.000004                0.0   \n",
      "v1lat                     0.000004            0.000004                0.0   \n",
      "na'vi                     0.000004            0.000004                0.0   \n",
      "стат                      0.000004            0.000004                0.0   \n",
      "несчитать                 0.000004            0.000004                0.0   \n",
      "студанал                  0.000004            0.000004                0.0   \n",
      "natus                     0.000004            0.000004                0.0   \n",
      "такоекром                 0.000004            0.000004                0.0   \n",
      "gaming                    0.000004            0.000004                0.0   \n",
      "смысл_1                   0.000004            0.000004                0.0   \n",
      "godhunt                   0.000004            0.000004                0.0   \n",
      "офсайд                    0.000004            0.000004                0.0   \n",
      "аганить                   0.000004            0.000004                0.0   \n",
      "пивоварение               0.000048            0.000036                0.0   \n",
      "...                            ...                 ...                ...   \n",
      "перемножить               0.000004            0.000006                0.0   \n",
      "бензинафренсис            0.000004            0.000004                0.0   \n",
      "мошка                     0.000004            0.000004                0.0   \n",
      "крепелина                 0.000004            0.000004                0.0   \n",
      "ипохорский                0.000004            0.000004                0.0   \n",
      "предмет                   0.000048            0.000036                0.0   \n",
      "рюмка                     0.000048            0.000036                0.0   \n",
      "тимлида                   0.000004            0.000011                0.0   \n",
      "бейлиз                    0.000004            0.000006                0.0   \n",
      "сангия                    0.000004            0.000006                0.0   \n",
      "депортировать             0.000007            0.000004                0.0   \n",
      "magazineпервое            0.000004            0.000006                0.0   \n",
      "подворачивать             0.000004            0.000004                0.0   \n",
      "джеймсонвота              0.000004            0.000006                0.0   \n",
      "частицна                  0.000004            0.000004                0.0   \n",
      "хромированный             0.000004            0.000004                0.0   \n",
      "маять                     0.000004            0.000006                0.0   \n",
      "полирнуться               0.000004            0.000006                0.0   \n",
      "haters                    0.000004            0.000004                0.0   \n",
      "двигать                   0.000040            0.000029                0.0   \n",
      "martell                   0.000004            0.000006                0.0   \n",
      "асинхронный               0.000004            0.000004                0.0   \n",
      "отъ                       0.000004            0.000006                0.0   \n",
      "лопеза                    0.000004            0.000006                0.0   \n",
      "ўступіў                   0.000007            0.000004                0.0   \n",
      "специнструмент            0.000004            0.000004                0.0   \n",
      "мескалем                  0.000004            0.000006                0.0   \n",
      "cherry                    0.000009            0.000004                0.0   \n",
      "dolboeb                   0.000007            0.000004                0.0   \n",
      "wolfe                     0.000007            0.000004                0.0   \n",
      "\n",
      "                objective_topic_1         ...          objective_topic_6  \\\n",
      "харэўскімфойе                 0.0         ...                        0.0   \n",
      "изумлять                      0.0         ...                        0.0   \n",
      "дальнобойный                  0.0         ...                        0.0   \n",
      "савинкова                     0.0         ...                        0.0   \n",
      "погранпункт                   0.0         ...                        0.0   \n",
      "мельниковкогда                0.0         ...                        0.0   \n",
      "дотерный                      0.0         ...                        0.0   \n",
      "pgg                           0.0         ...                        0.0   \n",
      "даззло                        0.0         ...                        0.0   \n",
      "кулдаун                       0.0         ...                        0.0   \n",
      "кибертурнир                   0.0         ...                        0.0   \n",
      "инвайта                       0.0         ...                        0.0   \n",
      "иллюминэйт                    0.0         ...                        0.0   \n",
      "aegis                         0.0         ...                        0.0   \n",
      "valve                         0.0         ...                        0.0   \n",
      "studanal                      0.0         ...                        0.0   \n",
      "kotl                          0.0         ...                        0.0   \n",
      "v1lat                         0.0         ...                        0.0   \n",
      "na'vi                         0.0         ...                        0.0   \n",
      "стат                          0.0         ...                        0.0   \n",
      "несчитать                     0.0         ...                        0.0   \n",
      "студанал                      0.0         ...                        0.0   \n",
      "natus                         0.0         ...                        0.0   \n",
      "такоекром                     0.0         ...                        0.0   \n",
      "gaming                        0.0         ...                        0.0   \n",
      "смысл_1                       0.0         ...                        0.0   \n",
      "godhunt                       0.0         ...                        0.0   \n",
      "офсайд                        0.0         ...                        0.0   \n",
      "аганить                       0.0         ...                        0.0   \n",
      "пивоварение                   0.0         ...                        0.0   \n",
      "...                           ...         ...                        ...   \n",
      "перемножить                   0.0         ...                        0.0   \n",
      "бензинафренсис                0.0         ...                        0.0   \n",
      "мошка                         0.0         ...                        0.0   \n",
      "крепелина                     0.0         ...                        0.0   \n",
      "ипохорский                    0.0         ...                        0.0   \n",
      "предмет                       0.0         ...                        0.0   \n",
      "рюмка                         0.0         ...                        0.0   \n",
      "тимлида                       0.0         ...                        0.0   \n",
      "бейлиз                        0.0         ...                        0.0   \n",
      "сангия                        0.0         ...                        0.0   \n",
      "депортировать                 0.0         ...                        0.0   \n",
      "magazineпервое                0.0         ...                        0.0   \n",
      "подворачивать                 0.0         ...                        0.0   \n",
      "джеймсонвота                  0.0         ...                        0.0   \n",
      "частицна                      0.0         ...                        0.0   \n",
      "хромированный                 0.0         ...                        0.0   \n",
      "маять                         0.0         ...                        0.0   \n",
      "полирнуться                   0.0         ...                        0.0   \n",
      "haters                        0.0         ...                        0.0   \n",
      "двигать                       0.0         ...                        0.0   \n",
      "martell                       0.0         ...                        0.0   \n",
      "асинхронный                   0.0         ...                        0.0   \n",
      "отъ                           0.0         ...                        0.0   \n",
      "лопеза                        0.0         ...                        0.0   \n",
      "ўступіў                       0.0         ...                        0.0   \n",
      "специнструмент                0.0         ...                        0.0   \n",
      "мескалем                      0.0         ...                        0.0   \n",
      "cherry                        0.0         ...                        0.0   \n",
      "dolboeb                       0.0         ...                        0.0   \n",
      "wolfe                         0.0         ...                        0.0   \n",
      "\n",
      "                objective_topic_7  objective_topic_8  objective_topic_9  \\\n",
      "харэўскімфойе                 0.0                0.0                0.0   \n",
      "изумлять                      0.0                0.0                0.0   \n",
      "дальнобойный                  0.0                0.0                0.0   \n",
      "савинкова                     0.0                0.0                0.0   \n",
      "погранпункт                   0.0                0.0                0.0   \n",
      "мельниковкогда                0.0                0.0                0.0   \n",
      "дотерный                      0.0                0.0                0.0   \n",
      "pgg                           0.0                0.0                0.0   \n",
      "даззло                        0.0                0.0                0.0   \n",
      "кулдаун                       0.0                0.0                0.0   \n",
      "кибертурнир                   0.0                0.0                0.0   \n",
      "инвайта                       0.0                0.0                0.0   \n",
      "иллюминэйт                    0.0                0.0                0.0   \n",
      "aegis                         0.0                0.0                0.0   \n",
      "valve                         0.0                0.0                0.0   \n",
      "studanal                      0.0                0.0                0.0   \n",
      "kotl                          0.0                0.0                0.0   \n",
      "v1lat                         0.0                0.0                0.0   \n",
      "na'vi                         0.0                0.0                0.0   \n",
      "стат                          0.0                0.0                0.0   \n",
      "несчитать                     0.0                0.0                0.0   \n",
      "студанал                      0.0                0.0                0.0   \n",
      "natus                         0.0                0.0                0.0   \n",
      "такоекром                     0.0                0.0                0.0   \n",
      "gaming                        0.0                0.0                0.0   \n",
      "смысл_1                       0.0                0.0                0.0   \n",
      "godhunt                       0.0                0.0                0.0   \n",
      "офсайд                        0.0                0.0                0.0   \n",
      "аганить                       0.0                0.0                0.0   \n",
      "пивоварение                   0.0                0.0                0.0   \n",
      "...                           ...                ...                ...   \n",
      "перемножить                   0.0                0.0                0.0   \n",
      "бензинафренсис                0.0                0.0                0.0   \n",
      "мошка                         0.0                0.0                0.0   \n",
      "крепелина                     0.0                0.0                0.0   \n",
      "ипохорский                    0.0                0.0                0.0   \n",
      "предмет                       0.0                0.0                0.0   \n",
      "рюмка                         0.0                0.0                0.0   \n",
      "тимлида                       0.0                0.0                0.0   \n",
      "бейлиз                        0.0                0.0                0.0   \n",
      "сангия                        0.0                0.0                0.0   \n",
      "депортировать                 0.0                0.0                0.0   \n",
      "magazineпервое                0.0                0.0                0.0   \n",
      "подворачивать                 0.0                0.0                0.0   \n",
      "джеймсонвота                  0.0                0.0                0.0   \n",
      "частицна                      0.0                0.0                0.0   \n",
      "хромированный                 0.0                0.0                0.0   \n",
      "маять                         0.0                0.0                0.0   \n",
      "полирнуться                   0.0                0.0                0.0   \n",
      "haters                        0.0                0.0                0.0   \n",
      "двигать                       0.0                0.0                0.0   \n",
      "martell                       0.0                0.0                0.0   \n",
      "асинхронный                   0.0                0.0                0.0   \n",
      "отъ                           0.0                0.0                0.0   \n",
      "лопеза                        0.0                0.0                0.0   \n",
      "ўступіў                       0.0                0.0                0.0   \n",
      "специнструмент                0.0                0.0                0.0   \n",
      "мескалем                      0.0                0.0                0.0   \n",
      "cherry                        0.0                0.0                0.0   \n",
      "dolboeb                       0.0                0.0                0.0   \n",
      "wolfe                         0.0                0.0                0.0   \n",
      "\n",
      "                objective_topic_10  objective_topic_11  objective_topic_12  \\\n",
      "харэўскімфойе                  0.0                 0.0                 0.0   \n",
      "изумлять                       0.0                 0.0                 0.0   \n",
      "дальнобойный                   0.0                 0.0                 0.0   \n",
      "савинкова                      0.0                 0.0                 0.0   \n",
      "погранпункт                    0.0                 0.0                 0.0   \n",
      "мельниковкогда                 0.0                 0.0                 0.0   \n",
      "дотерный                       0.0                 0.0                 0.0   \n",
      "pgg                            0.0                 0.0                 0.0   \n",
      "даззло                         0.0                 0.0                 0.0   \n",
      "кулдаун                        0.0                 0.0                 0.0   \n",
      "кибертурнир                    0.0                 0.0                 0.0   \n",
      "инвайта                        0.0                 0.0                 0.0   \n",
      "иллюминэйт                     0.0                 0.0                 0.0   \n",
      "aegis                          0.0                 0.0                 0.0   \n",
      "valve                          0.0                 0.0                 0.0   \n",
      "studanal                       0.0                 0.0                 0.0   \n",
      "kotl                           0.0                 0.0                 0.0   \n",
      "v1lat                          0.0                 0.0                 0.0   \n",
      "na'vi                          0.0                 0.0                 0.0   \n",
      "стат                           0.0                 0.0                 0.0   \n",
      "несчитать                      0.0                 0.0                 0.0   \n",
      "студанал                       0.0                 0.0                 0.0   \n",
      "natus                          0.0                 0.0                 0.0   \n",
      "такоекром                      0.0                 0.0                 0.0   \n",
      "gaming                         0.0                 0.0                 0.0   \n",
      "смысл_1                        0.0                 0.0                 0.0   \n",
      "godhunt                        0.0                 0.0                 0.0   \n",
      "офсайд                         0.0                 0.0                 0.0   \n",
      "аганить                        0.0                 0.0                 0.0   \n",
      "пивоварение                    0.0                 0.0                 0.0   \n",
      "...                            ...                 ...                 ...   \n",
      "перемножить                    0.0                 0.0                 0.0   \n",
      "бензинафренсис                 0.0                 0.0                 0.0   \n",
      "мошка                          0.0                 0.0                 0.0   \n",
      "крепелина                      0.0                 0.0                 0.0   \n",
      "ипохорский                     0.0                 0.0                 0.0   \n",
      "предмет                        0.0                 0.0                 0.0   \n",
      "рюмка                          0.0                 0.0                 0.0   \n",
      "тимлида                        0.0                 0.0                 0.0   \n",
      "бейлиз                         0.0                 0.0                 0.0   \n",
      "сангия                         0.0                 0.0                 0.0   \n",
      "депортировать                  0.0                 0.0                 0.0   \n",
      "magazineпервое                 0.0                 0.0                 0.0   \n",
      "подворачивать                  0.0                 0.0                 0.0   \n",
      "джеймсонвота                   0.0                 0.0                 0.0   \n",
      "частицна                       0.0                 0.0                 0.0   \n",
      "хромированный                  0.0                 0.0                 0.0   \n",
      "маять                          0.0                 0.0                 0.0   \n",
      "полирнуться                    0.0                 0.0                 0.0   \n",
      "haters                         0.0                 0.0                 0.0   \n",
      "двигать                        0.0                 0.0                 0.0   \n",
      "martell                        0.0                 0.0                 0.0   \n",
      "асинхронный                    0.0                 0.0                 0.0   \n",
      "отъ                            0.0                 0.0                 0.0   \n",
      "лопеза                         0.0                 0.0                 0.0   \n",
      "ўступіў                        0.0                 0.0                 0.0   \n",
      "специнструмент                 0.0                 0.0                 0.0   \n",
      "мескалем                       0.0                 0.0                 0.0   \n",
      "cherry                         0.0                 0.0                 0.0   \n",
      "dolboeb                        0.0                 0.0                 0.0   \n",
      "wolfe                          0.0                 0.0                 0.0   \n",
      "\n",
      "                objective_topic_13  objective_topic_14  objective_topic_15  \n",
      "харэўскімфойе                  0.0                 0.0                 0.0  \n",
      "изумлять                       0.0                 0.0                 0.0  \n",
      "дальнобойный                   0.0                 0.0                 0.0  \n",
      "савинкова                      0.0                 0.0                 0.0  \n",
      "погранпункт                    0.0                 0.0                 0.0  \n",
      "мельниковкогда                 0.0                 0.0                 0.0  \n",
      "дотерный                       0.0                 0.0                 0.0  \n",
      "pgg                            0.0                 0.0                 0.0  \n",
      "даззло                         0.0                 0.0                 0.0  \n",
      "кулдаун                        0.0                 0.0                 0.0  \n",
      "кибертурнир                    0.0                 0.0                 0.0  \n",
      "инвайта                        0.0                 0.0                 0.0  \n",
      "иллюминэйт                     0.0                 0.0                 0.0  \n",
      "aegis                          0.0                 0.0                 0.0  \n",
      "valve                          0.0                 0.0                 0.0  \n",
      "studanal                       0.0                 0.0                 0.0  \n",
      "kotl                           0.0                 0.0                 0.0  \n",
      "v1lat                          0.0                 0.0                 0.0  \n",
      "na'vi                          0.0                 0.0                 0.0  \n",
      "стат                           0.0                 0.0                 0.0  \n",
      "несчитать                      0.0                 0.0                 0.0  \n",
      "студанал                       0.0                 0.0                 0.0  \n",
      "natus                          0.0                 0.0                 0.0  \n",
      "такоекром                      0.0                 0.0                 0.0  \n",
      "gaming                         0.0                 0.0                 0.0  \n",
      "смысл_1                        0.0                 0.0                 0.0  \n",
      "godhunt                        0.0                 0.0                 0.0  \n",
      "офсайд                         0.0                 0.0                 0.0  \n",
      "аганить                        0.0                 0.0                 0.0  \n",
      "пивоварение                    0.0                 0.0                 0.0  \n",
      "...                            ...                 ...                 ...  \n",
      "перемножить                    0.0                 0.0                 0.0  \n",
      "бензинафренсис                 0.0                 0.0                 0.0  \n",
      "мошка                          0.0                 0.0                 0.0  \n",
      "крепелина                      0.0                 0.0                 0.0  \n",
      "ипохорский                     0.0                 0.0                 0.0  \n",
      "предмет                        0.0                 0.0                 0.0  \n",
      "рюмка                          0.0                 0.0                 0.0  \n",
      "тимлида                        0.0                 0.0                 0.0  \n",
      "бейлиз                         0.0                 0.0                 0.0  \n",
      "сангия                         0.0                 0.0                 0.0  \n",
      "депортировать                  0.0                 0.0                 0.0  \n",
      "magazineпервое                 0.0                 0.0                 0.0  \n",
      "подворачивать                  0.0                 0.0                 0.0  \n",
      "джеймсонвота                   0.0                 0.0                 0.0  \n",
      "частицна                       0.0                 0.0                 0.0  \n",
      "хромированный                  0.0                 0.0                 0.0  \n",
      "маять                          0.0                 0.0                 0.0  \n",
      "полирнуться                    0.0                 0.0                 0.0  \n",
      "haters                         0.0                 0.0                 0.0  \n",
      "двигать                        0.0                 0.0                 0.0  \n",
      "martell                        0.0                 0.0                 0.0  \n",
      "асинхронный                    0.0                 0.0                 0.0  \n",
      "отъ                            0.0                 0.0                 0.0  \n",
      "лопеза                         0.0                 0.0                 0.0  \n",
      "ўступіў                        0.0                 0.0                 0.0  \n",
      "специнструмент                 0.0                 0.0                 0.0  \n",
      "мескалем                       0.0                 0.0                 0.0  \n",
      "cherry                         0.0                 0.0                 0.0  \n",
      "dolboeb                        0.0                 0.0                 0.0  \n",
      "wolfe                          0.0                 0.0                 0.0  \n",
      "\n",
      "[152177 rows x 24 columns]\n",
      "                        1001      1002      1003  1004      1005      1006  \\\n",
      "background_topic_0  0.000000  0.000000  0.000000   0.0  0.000000  0.000000   \n",
      "background_topic_1  0.000000  0.000000  0.497803   1.0  0.000000  0.461894   \n",
      "background_topic_2  0.000000  0.000000  0.000000   0.0  0.000000  0.000000   \n",
      "background_topic_3  0.000000  0.000000  0.000000   0.0  0.000000  0.000000   \n",
      "background_topic_4  0.000000  0.000000  0.000000   0.0  0.000000  0.000000   \n",
      "background_topic_5  0.000000  0.000000  0.000000   0.0  0.000000  0.000000   \n",
      "background_topic_6  0.000000  0.000000  0.000000   0.0  0.000000  0.000000   \n",
      "background_topic_7  0.000000  0.000000  0.000000   0.0  0.000000  0.000000   \n",
      "objective_topic_0   0.939941  0.000000  0.231149   0.0  0.000000  0.000000   \n",
      "objective_topic_1   0.000000  0.000000  0.000000   0.0  0.000000  0.000000   \n",
      "objective_topic_2   0.000000  0.000000  0.000000   0.0  0.000000  0.000000   \n",
      "objective_topic_3   0.000000  0.000000  0.000000   0.0  0.000000  0.000000   \n",
      "objective_topic_4   0.000000  0.000000  0.000000   0.0  0.000000  0.000000   \n",
      "objective_topic_5   0.000000  0.000000  0.000000   0.0  0.000000  0.017222   \n",
      "objective_topic_6   0.000000  0.784503  0.000000   0.0  0.000000  0.000000   \n",
      "objective_topic_7   0.000000  0.000000  0.000000   0.0  0.459684  0.520884   \n",
      "objective_topic_8   0.000000  0.215497  0.271047   0.0  0.039486  0.000000   \n",
      "objective_topic_9   0.000000  0.000000  0.000000   0.0  0.500830  0.000000   \n",
      "objective_topic_10  0.000000  0.000000  0.000000   0.0  0.000000  0.000000   \n",
      "objective_topic_11  0.000000  0.000000  0.000000   0.0  0.000000  0.000000   \n",
      "objective_topic_12  0.060059  0.000000  0.000000   0.0  0.000000  0.000000   \n",
      "objective_topic_13  0.000000  0.000000  0.000000   0.0  0.000000  0.000000   \n",
      "objective_topic_14  0.000000  0.000000  0.000000   0.0  0.000000  0.000000   \n",
      "objective_topic_15  0.000000  0.000000  0.000000   0.0  0.000000  0.000000   \n",
      "\n",
      "                        1007      1008  1009  1010    ...          991  992  \\\n",
      "background_topic_0  0.000000  0.000000   0.0   0.0    ...     0.000000  0.0   \n",
      "background_topic_1  0.000000  0.701015   0.0   0.0    ...     0.000000  0.0   \n",
      "background_topic_2  0.000000  0.000000   0.0   0.0    ...     0.000000  0.0   \n",
      "background_topic_3  0.000000  0.000000   0.0   0.0    ...     0.000000  0.0   \n",
      "background_topic_4  0.000000  0.000000   0.0   0.0    ...     0.000000  0.0   \n",
      "background_topic_5  0.000000  0.000000   0.0   0.0    ...     0.853755  0.0   \n",
      "background_topic_6  0.553425  0.000000   0.0   0.0    ...     0.000000  0.0   \n",
      "background_topic_7  0.000000  0.000000   0.0   0.0    ...     0.000000  0.0   \n",
      "objective_topic_0   0.000000  0.000000   0.0   0.0    ...     0.000000  0.0   \n",
      "objective_topic_1   0.000000  0.000000   0.0   0.0    ...     0.000000  0.0   \n",
      "objective_topic_2   0.000000  0.000000   0.0   0.0    ...     0.000000  0.0   \n",
      "objective_topic_3   0.000000  0.000000   0.0   0.0    ...     0.000000  0.0   \n",
      "objective_topic_4   0.000000  0.000000   0.0   0.0    ...     0.000000  0.0   \n",
      "objective_topic_5   0.000000  0.000000   0.0   0.0    ...     0.000000  0.0   \n",
      "objective_topic_6   0.000000  0.000000   1.0   0.0    ...     0.146245  0.0   \n",
      "objective_topic_7   0.000000  0.298985   0.0   0.0    ...     0.000000  1.0   \n",
      "objective_topic_8   0.000000  0.000000   0.0   0.0    ...     0.000000  0.0   \n",
      "objective_topic_9   0.000000  0.000000   0.0   1.0    ...     0.000000  0.0   \n",
      "objective_topic_10  0.000000  0.000000   0.0   0.0    ...     0.000000  0.0   \n",
      "objective_topic_11  0.000000  0.000000   0.0   0.0    ...     0.000000  0.0   \n",
      "objective_topic_12  0.446575  0.000000   0.0   0.0    ...     0.000000  0.0   \n",
      "objective_topic_13  0.000000  0.000000   0.0   0.0    ...     0.000000  0.0   \n",
      "objective_topic_14  0.000000  0.000000   0.0   0.0    ...     0.000000  0.0   \n",
      "objective_topic_15  0.000000  0.000000   0.0   0.0    ...     0.000000  0.0   \n",
      "\n",
      "                    993       994       995       996       997       998  \\\n",
      "background_topic_0  0.0  0.000000  0.000000  0.000000  0.000000  0.000000   \n",
      "background_topic_1  0.0  0.000000  0.563467  0.000000  0.000000  0.000000   \n",
      "background_topic_2  0.0  0.000000  0.000000  0.000000  0.000000  0.000000   \n",
      "background_topic_3  0.0  0.000000  0.000000  0.000000  0.000000  0.000000   \n",
      "background_topic_4  0.0  0.000000  0.000000  0.000000  0.000000  0.000000   \n",
      "background_topic_5  0.0  0.000000  0.000000  0.380190  0.000000  0.000000   \n",
      "background_topic_6  0.0  0.000000  0.000000  0.000000  0.000000  0.000000   \n",
      "background_topic_7  1.0  0.000000  0.000000  0.000000  0.000000  0.461122   \n",
      "objective_topic_0   0.0  0.000000  0.000000  0.000000  0.052996  0.000000   \n",
      "objective_topic_1   0.0  0.000000  0.000000  0.000000  0.000000  0.000000   \n",
      "objective_topic_2   0.0  0.000000  0.000000  0.000000  0.000000  0.000000   \n",
      "objective_topic_3   0.0  0.000000  0.000000  0.000000  0.416466  0.000000   \n",
      "objective_topic_4   0.0  0.000000  0.000000  0.000000  0.013015  0.000000   \n",
      "objective_topic_5   0.0  0.000000  0.000000  0.000000  0.000000  0.000000   \n",
      "objective_topic_6   0.0  0.000000  0.000000  0.495332  0.000000  0.000000   \n",
      "objective_topic_7   0.0  0.513371  0.436533  0.000000  0.517522  0.538878   \n",
      "objective_topic_8   0.0  0.152150  0.000000  0.124478  0.000000  0.000000   \n",
      "objective_topic_9   0.0  0.334479  0.000000  0.000000  0.000000  0.000000   \n",
      "objective_topic_10  0.0  0.000000  0.000000  0.000000  0.000000  0.000000   \n",
      "objective_topic_11  0.0  0.000000  0.000000  0.000000  0.000000  0.000000   \n",
      "objective_topic_12  0.0  0.000000  0.000000  0.000000  0.000000  0.000000   \n",
      "objective_topic_13  0.0  0.000000  0.000000  0.000000  0.000000  0.000000   \n",
      "objective_topic_14  0.0  0.000000  0.000000  0.000000  0.000000  0.000000   \n",
      "objective_topic_15  0.0  0.000000  0.000000  0.000000  0.000000  0.000000   \n",
      "\n",
      "                         999      1000  \n",
      "background_topic_0  0.000000  0.000000  \n",
      "background_topic_1  0.000000  0.000000  \n",
      "background_topic_2  0.000000  0.000000  \n",
      "background_topic_3  0.000000  0.000000  \n",
      "background_topic_4  0.000000  0.000000  \n",
      "background_topic_5  0.579066  0.000000  \n",
      "background_topic_6  0.000000  0.000000  \n",
      "background_topic_7  0.000000  0.453099  \n",
      "objective_topic_0   0.000000  0.000000  \n",
      "objective_topic_1   0.000000  0.000000  \n",
      "objective_topic_2   0.000000  0.000000  \n",
      "objective_topic_3   0.000000  0.000000  \n",
      "objective_topic_4   0.000000  0.000000  \n",
      "objective_topic_5   0.000000  0.000000  \n",
      "objective_topic_6   0.000000  0.000000  \n",
      "objective_topic_7   0.420935  0.546901  \n",
      "objective_topic_8   0.000000  0.000000  \n",
      "objective_topic_9   0.000000  0.000000  \n",
      "objective_topic_10  0.000000  0.000000  \n",
      "objective_topic_11  0.000000  0.000000  \n",
      "objective_topic_12  0.000000  0.000000  \n",
      "objective_topic_13  0.000000  0.000000  \n",
      "objective_topic_14  0.000000  0.000000  \n",
      "objective_topic_15  0.000000  0.000000  \n",
      "\n",
      "[24 rows x 3959 columns]\n"
     ]
    }
   ],
   "source": [
    "for topic_name in devided_model.topic_names:\n",
    "    if topic_name in devided_model.score_tracker['top_tokens'].last_tokens:\n",
    "        print(topic_name + ': '+ ' '.join(devided_model.score_tracker['top_tokens'].last_tokens[topic_name]))\n",
    "\n",
    "print (\"Perplexity:\", devided_model.score_tracker[\"perplexity_score\"].last_value)\n",
    "print (devided_model.get_phi())\n",
    "print(devided_model.get_theta())\n",
    "#for i,raw in enumerate(devided_model.get_phi()):\n",
    "#    print(i,' ',raw)"
   ]
  },
  {
   "cell_type": "code",
   "execution_count": 28,
   "metadata": {},
   "outputs": [
    {
     "data": {
      "text/plain": [
       "[<matplotlib.lines.Line2D at 0x7f38e59a2198>]"
      ]
     },
     "execution_count": 28,
     "metadata": {},
     "output_type": "execute_result"
    },
    {
     "data": {
      "image/png": "[encoded data removed]",
      "text/plain": [
       "<matplotlib.figure.Figure at 0x7f38e6fe82b0>"
      ]
     },
     "metadata": {},
     "output_type": "display_data"
    }
   ],
   "source": [
    "plt.plot(devided_model.score_tracker[\"perplexity_score\"].value[1:])"
   ]
  },
  {
   "cell_type": "code",
   "execution_count": null,
   "metadata": {
    "collapsed": true
   },
   "outputs": [],
   "source": [
    "import datetime"
   ]
  },
  {
   "cell_type": "code",
   "execution_count": null,
   "metadata": {
    "collapsed": true
   },
   "outputs": [],
   "source": [
    "datetime.datetime.now().isoformat()"
   ]
  },
  {
   "cell_type": "code",
   "execution_count": null,
   "metadata": {
    "collapsed": true
   },
   "outputs": [],
   "source": [
    "def get_text():"
   ]
  },
  {
   "cell_type": "code",
   "execution_count": null,
   "metadata": {
    "collapsed": true
   },
   "outputs": [],
   "source": [
    "d = {'col1': ts1, 'col2': ts2}\n",
    "df = DataFrame(data=d, index=index)"
   ]
  },
  {
   "cell_type": "code",
   "execution_count": null,
   "metadata": {
    "collapsed": true
   },
   "outputs": [],
   "source": [
    "def save_model(model):\n",
    "    file_name = 'model_' + str(T) + str(model.score_tracker[\"perplexity_score\"])\n",
    "    model.save(file_name)"
   ]
  },
  {
   "cell_type": "code",
   "execution_count": null,
   "metadata": {
    "collapsed": true
   },
   "outputs": [],
   "source": []
  }
 ],
 "metadata": {
  "kernelspec": {
   "display_name": "Python 3",
   "language": "python",
   "name": "python3"
  },
  "language_info": {
   "codemirror_mode": {
    "name": "ipython",
    "version": 3
   },
   "file_extension": ".py",
   "mimetype": "text/x-python",
   "name": "python",
   "nbconvert_exporter": "python",
   "pygments_lexer": "ipython3",
   "version": "3.5.3"
  }
 },
 "nbformat": 4,
 "nbformat_minor": 2
}
