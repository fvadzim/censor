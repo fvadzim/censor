{
 "cells": [
  {
   "cell_type": "code",
   "execution_count": 1,
   "metadata": {
    "collapsed": true
   },
   "outputs": [],
   "source": [
    "from nltk.corpus import stopwords"
   ]
  },
  {
   "cell_type": "code",
   "execution_count": 2,
   "metadata": {
    "collapsed": true
   },
   "outputs": [],
   "source": [
    "import sys"
   ]
  },
  {
   "cell_type": "code",
   "execution_count": 3,
   "metadata": {
    "collapsed": true
   },
   "outputs": [],
   "source": [
    "sys.path.append(\"home/ubuntu/app/censor\")"
   ]
  },
  {
   "cell_type": "code",
   "execution_count": 12,
   "metadata": {},
   "outputs": [
    {
     "data": {
      "text/plain": [
       "['',\n",
       " '/home/ubuntu/src/cntk/bindings/python',\n",
       " '/usr/lib/python35.zip',\n",
       " '/usr/lib/python3.5',\n",
       " '/usr/lib/python3.5/plat-x86_64-linux-gnu',\n",
       " '/usr/lib/python3.5/lib-dynload',\n",
       " '/usr/local/lib/python3.5/dist-packages',\n",
       " '/usr/local/lib/python3.5/dist-packages/mxnet-0.10.0-py3.5.egg',\n",
       " '/usr/local/lib/python3.5/dist-packages/Theano-0.9.0-py3.5.egg',\n",
       " '/usr/local/lib/python3.5/dist-packages/Keras-1.2.2-py3.5.egg',\n",
       " '/usr/local/lib/python3.5/dist-packages/protobuf-3.0.0b2-py3.5.egg',\n",
       " '/usr/local/lib/python3.5/dist-packages/pscraper-0.0.0-py3.5.egg',\n",
       " '/usr/local/lib/python3.5/dist-packages/bigartm-0.8.3-py3.5.egg',\n",
       " '/usr/lib/python3/dist-packages',\n",
       " '/home/ubuntu/src/caffe3/python',\n",
       " '/usr/local/lib/python3.5/dist-packages/IPython/extensions',\n",
       " '/home/ubuntu/.ipython',\n",
       " 'home/ubuntu/app/censor',\n",
       " '/app']"
      ]
     },
     "execution_count": 12,
     "metadata": {},
     "output_type": "execute_result"
    }
   ],
   "source": [
    "sys.path"
   ]
  },
  {
   "cell_type": "code",
   "execution_count": null,
   "metadata": {
    "collapsed": true
   },
   "outputs": [],
   "source": [
    "/home/ubuntu/app/censor/topic_modeling/app"
   ]
  },
  {
   "cell_type": "code",
   "execution_count": 14,
   "metadata": {},
   "outputs": [
    {
     "name": "stdout",
     "output_type": "stream",
     "text": [
      "/home/ubuntu/app/censor/topic_modeling/.ipython\n",
      "/home/ubuntu/app/censor/topic_modeling/.config\n",
      "/home/ubuntu/app/censor/topic_modeling/.nv\n",
      "/home/ubuntu/app/censor/topic_modeling/.cache\n",
      "/home/ubuntu/app/censor/topic_modeling/.continuum\n",
      "/home/ubuntu/app/censor/topic_modeling/.viminfo\n",
      "/home/ubuntu/app/censor/topic_modeling/.ssh\n",
      "/home/ubuntu/app/censor/topic_modeling/.keras\n",
      "/home/ubuntu/app/censor/topic_modeling/.bashrc\n",
      "/home/ubuntu/app/censor/topic_modeling/.bash_history\n",
      "/home/ubuntu/app/censor/topic_modeling/.bash_logout\n",
      "/home/ubuntu/app/censor/topic_modeling/.sudo_as_admin_successful\n",
      "/home/ubuntu/app/censor/topic_modeling/.linuxbrew\n",
      "/home/ubuntu/app/censor/topic_modeling/.vim\n",
      "/home/ubuntu/app/censor/topic_modeling/src\n",
      "/home/ubuntu/app/censor/topic_modeling/gdrice\n",
      "/home/ubuntu/app/censor/topic_modeling/nltk_data\n",
      "/home/ubuntu/app/censor/topic_modeling/app\n",
      "/home/ubuntu/app/censor/topic_modeling/.dropbox\n",
      "/home/ubuntu/app/censor/topic_modeling/.python_history\n",
      "/home/ubuntu/app/censor/topic_modeling/.local\n",
      "/home/ubuntu/app/censor/topic_modeling/.jupyter\n",
      "/home/ubuntu/app/censor/topic_modeling/.cmake\n",
      "/home/ubuntu/app/censor/topic_modeling/.rnd\n",
      "/home/ubuntu/app/censor/topic_modeling/.conda\n",
      "/home/ubuntu/app/censor/topic_modeling/.theanorc\n",
      "/home/ubuntu/app/censor/topic_modeling/.dropbox-dist\n",
      "/home/ubuntu/app/censor/topic_modeling/.profile\n",
      "/home/ubuntu/app/censor/topic_modeling/go\n",
      "/home/ubuntu/app/censor/topic_modeling/.nano\n",
      "/home/ubuntu/app/censor/topic_modeling/.mysql_history\n",
      "/home/ubuntu/app/censor/topic_modeling/.theano\n",
      "/home/ubuntu/app/censor/topic_modeling/.wget-hsts\n",
      "/home/ubuntu/app/censor/topic_modeling/certs\n",
      "/home/ubuntu/app/censor/topic_modeling/.gdrive\n",
      "/home/ubuntu/app/censor/topic_modeling/Dropbox\n"
     ]
    }
   ],
   "source": [
    "for path in os.listdir(os.environ['HOME']):\n",
    "    print(os.path.abspath(path))"
   ]
  },
  {
   "cell_type": "code",
   "execution_count": 11,
   "metadata": {},
   "outputs": [
    {
     "data": {
      "text/plain": [
       "False"
      ]
     },
     "execution_count": 11,
     "metadata": {},
     "output_type": "execute_result"
    }
   ],
   "source": [
    "os.path.exists(sys.path[-1])"
   ]
  },
  {
   "cell_type": "code",
   "execution_count": 9,
   "metadata": {
    "collapsed": true
   },
   "outputs": [],
   "source": [
    "sys.path.append(os.path.join(os.environ[\"HOME\"], '/app'))"
   ]
  },
  {
   "cell_type": "code",
   "execution_count": 19,
   "metadata": {},
   "outputs": [
    {
     "data": {
      "text/plain": [
       "False"
      ]
     },
     "execution_count": 19,
     "metadata": {},
     "output_type": "execute_result"
    }
   ],
   "source": [
    "os.path.exists('/home/ubuntu/app/censor/topic_modeling/app')"
   ]
  },
  {
   "cell_type": "code",
   "execution_count": null,
   "metadata": {
    "collapsed": true
   },
   "outputs": [],
   "source": []
  },
  {
   "cell_type": "code",
   "execution_count": 3,
   "metadata": {
    "collapsed": true
   },
   "outputs": [],
   "source": [
    "import artm\n",
    "import glob\n",
    "import os\n",
    "import artm\n",
    "import glob #module gives an opp to search for a file with a particular regex\n",
    "import os"
   ]
  },
  {
   "cell_type": "code",
   "execution_count": 4,
   "metadata": {
    "collapsed": true
   },
   "outputs": [],
   "source": [
    "from matplotlib import pyplot as plt\n",
    "%matplotlib inline\n",
    "import seaborn"
   ]
  },
  {
   "cell_type": "code",
   "execution_count": 5,
   "metadata": {
    "collapsed": true
   },
   "outputs": [],
   "source": [
    "def get_batch_vectorizer(target_batches_folder, data_path):\n",
    "    if not glob.glob(os.path.join(target_batches_folder, \"*\")):\n",
    "        return artm.BatchVectorizer(data_path=data_path,\n",
    "                                                data_format='vowpal_wabbit',\n",
    "                                                collection_name=data_path + '_collection',\n",
    "                                                target_folder=target_batches_folder)\n",
    "    else:\n",
    "        return artm.BatchVectorizer(data_path=target_batches_folder,\n",
    "                                                data_format='batches')\n"
   ]
  },
  {
   "cell_type": "code",
   "execution_count": 6,
   "metadata": {
    "collapsed": true
   },
   "outputs": [],
   "source": [
    "def get_dict(target_batches_folder):\n",
    "    dict_name = os.path.join(target_batches_folder, \"dict.txt\")\n",
    "    dictionary = artm.Dictionary(name=\"dictionary\")\n",
    "    if not os.path.exists(dict_name):\n",
    "        dictionary.gather(target_batches_folder)\n",
    "        dictionary.save_text(dict_name)\n",
    "    else:\n",
    "        dictionary.load_text(dict_name)\n",
    "    return dictionary\n"
   ]
  },
  {
   "cell_type": "code",
   "execution_count": 7,
   "metadata": {
    "collapsed": true
   },
   "outputs": [],
   "source": [
    "def print_top_words(model, tracker_name=\"top_tokens\"):\n",
    "    for topic_name in model.topic_names:\n",
    "        print(topic_name + ': ')\n",
    "        if topic_named in last_tokens:\n",
    "            for word in model.score_tracker[tracker_name].last_tokens[topic_name]:\n",
    "                print (word)\n",
    "        else:\n",
    "            print(\"free topic\")\n",
    "        print()\n"
   ]
  },
  {
   "cell_type": "code",
   "execution_count": 8,
   "metadata": {
    "collapsed": true
   },
   "outputs": [],
   "source": [
    "\n",
    "def generate_topic_names(topic_count, background_topic_count):\n",
    "\n",
    "    background_topics, objective_topics, all_topics = [], [], []\n",
    "    for i in range(topic_count):\n",
    "        topic_name = (\"background_topic_\" + str(i)) if i < background_topic_count \\\n",
    "            else (\"objective_topic_\" + str(i - background_topic_count))\n",
    "        all_topics.append(topic_name)\n",
    "        if i < background_topic_count:\n",
    "            background_topics.append(topic_name)\n",
    "        else:\n",
    "            objective_topics.append(topic_name)\n",
    "    return all_topics, objective_topics, background_topics\n"
   ]
  },
  {
   "cell_type": "code",
   "execution_count": 9,
   "metadata": {
    "collapsed": true
   },
   "outputs": [],
   "source": [
    "def set_regularizers(model, devided, topic_names,  **regs):\n",
    "    all_topics, objective_topics, background_topics = topic_names\n",
    "    if devided:\n",
    "            if 'objective_sparse_phi' in regs:\n",
    "                    model.regularizers.add(\n",
    "                        artm.SmoothSparsePhiRegularizer(\n",
    "                            name='objective_sparse_phi',\n",
    "                            topic_names=objective_topics,\n",
    "                            tau=regs['objective_sparse_phi']),\n",
    "                        overwrite= True)\n",
    "            if 'objective_sparse_theta' in regs:\n",
    "                    model.regularizers.add(\n",
    "                        artm.SmoothSparseThetaRegularizer(\n",
    "                            name='objective_sparse_theta',\n",
    "                            topic_names=objective_topics,\n",
    "                            tau=regs['objective_sparse_theta']),\n",
    "                        overwrite= True)\n",
    "            if 'background_sparse_phi' in regs:\n",
    "                    model.regularizers.add(\n",
    "                        artm.SmoothSparsePhiRegularizer(\n",
    "                            name='background_sparse_phi',\n",
    "                            topic_names=background_topics,\n",
    "                            tau=regs['background_sparse_phi']),\n",
    "                        overwrite= True)\n",
    "            if 'background_sparse_theta' in regs:\n",
    "                    model.regularizers.add(\n",
    "                        artm.SmoothSparseThetaRegularizer(\n",
    "                            name='background_sparse_theta',\n",
    "                            topic_names=background_topics,\n",
    "                            tau=regs['background_sparse_theta']),\n",
    "                        overwrite=True)\n",
    "    else:\n",
    "        if 'sparse_phi' in regs:\n",
    "                    model.regularizers.add(\n",
    "                        artm.SmoothSparsePhiRegularizer(\n",
    "                            name='sparse_phi',\n",
    "                            tau=regs['sparse_phi']),\n",
    "                        overwrite=True)\n",
    "        if 'sparse_theta' in regs:\n",
    "                    model.regularizers.add(\n",
    "                        artm.SmoothSparseThetaRegularizer(\n",
    "                            name='sparse_theta',\n",
    "                            tau=regs['sparse_theta']),\n",
    "                        overwrite=True)\n",
    "    if  'decorrelator_phi' in regs:\n",
    "            if devided:\n",
    "                model.regularizers.add(\n",
    "                            artm.DecorrelatorPhiRegularizer(\n",
    "                                name='decorrelator_phi',\n",
    "                                topic_names=objective_topics,\n",
    "                                tau=regs['decorrelator_phi']),\n",
    "                            overwrite=True)\n",
    "            else:\n",
    "                model.regularizers.add(\n",
    "                            artm.DecorrelatorPhiRegularizer(\n",
    "                                name='decorrelator_phi',\n",
    "                                tau=regs['decorrelator_phi']),\n",
    "                            overwrite=True)\n",
    "\n"
   ]
  },
  {
   "cell_type": "code",
   "execution_count": 10,
   "metadata": {
    "collapsed": true
   },
   "outputs": [],
   "source": [
    "def set_scores(model, topic_names, devided=True,  **scores):\n",
    "    #if not ('perplexity_score' in [score.name for\n",
    "    #                               score in model.scores]):\n",
    "    #    model.scores.add(PerplexityScore(name='perplexity_score'))\n",
    "    all_topics, objective_topics ,background_topics = topic_names\n",
    "    if 'top_tokens' in scores:\n",
    "        model.scores.add(artm.TopTokensScore(\n",
    "            name='top_tokens',\n",
    "            num_tokens=scores['top_tokens']),\n",
    "            overwrite= True)\n",
    "    if 'top_tokens_extended' in scores:\n",
    "        model.scores.add(artm.TopTokensScore(\n",
    "            name='top_tokens_extended',\n",
    "            num_tokens=scores['top_tokens_extended']),\n",
    "            overwrite= True)\n",
    "\n",
    "    if devided:\n",
    "            if 'objective_sparsity_phi' in scores:\n",
    "                    model.scores.add(\n",
    "                        artm.SparsityPhiScore(\n",
    "                            name='objective_sparsity_phi',\n",
    "                            topic_names=objective_topics),\n",
    "                        overwrite= True)\n",
    "            if 'objective_sparsity_theta' in scores:\n",
    "                    model.scores.add(\n",
    "                        artm.SparsityThetaScore(\n",
    "                            name='objective_sparsity_theta',\n",
    "                            topic_names=objective_topics),\n",
    "                        overwrite= True)\n",
    "            if 'background_sparsity_phi' in scores:\n",
    "                    model.scores.add(\n",
    "                        artm.SparsityPhiScore(\n",
    "                            name='background_sparsity_phi',\n",
    "                            topic_names=background_topics),\n",
    "                        overwrite= True)\n",
    "            if 'background_sparsityity_theta' in scores:\n",
    "                    model.scores.add(\n",
    "                        artm.SparsityThetaScore(\n",
    "                            name='background_sparsity_theta',\n",
    "                            topic_names=background_topics),\n",
    "                        overwrite=True)\n",
    "    else:\n",
    "        if 'sparsity_phi' in scores:\n",
    "                    print ('if sparsity_phi in scores:')\n",
    "                    model.scores.add(\n",
    "                        artm.SparsityPhiScore(\n",
    "                            name='sparsity_phi'),\n",
    "                        overwrite=True)\n",
    "        if 'sparsity_theta' in scores:\n",
    "                    print ('sparsity_theta  in scores')\n",
    "                    model.scores.add(\n",
    "                        artm.SparsityThetaScore(\n",
    "                            name='sparsity_theta'),\n",
    "                        overwrite=True)\n",
    "\n"
   ]
  },
  {
   "cell_type": "code",
   "execution_count": 11,
   "metadata": {
    "collapsed": true
   },
   "outputs": [],
   "source": [
    "\n",
    "def get_scores(topic_names):\n",
    "    # background_topics = (background_topics if background_topics else topics_amount//10)\n",
    "\n",
    "    all_topics, objective_topics, background_topics = topic_names\n",
    "    print(\"get_scores\", all_topics)\n",
    "    print(\"get scores : \" , background_topics)\n",
    "    print (\"get_scores : \" , objective_topics)\n",
    "\n",
    "    scores_list=[]\n",
    "    scores_list.append(artm.PerplexityScore(name='objective_perplexity_score',\n",
    "                                            topic_names=objective_topics))\n",
    "    scores_list.append(artm.SparsityPhiScore(name='objective_sparsity_phi',\n",
    "                                             topic_names=objective_topics))\n",
    "    scores_list.append(artm.SparsityThetaScore(name='objective_sparsity_theta',\n",
    "                                               topic_names=objective_topics))\n",
    "\n",
    "    scores_list.append(artm.PerplexityScore(name='perplexity_score',\n",
    "                                            topic_names=all_topics))\n",
    "\n",
    "    scores_list.append(artm.SparsityThetaScore(name='background_sparsity_theta',\n",
    "                                               topic_names=background_topics))\n",
    "    scores_list.append(artm.SparsityPhiScore(name='background_sparsity_phi',\n",
    "                                               topic_names=background_topics))\n",
    "    scores_list.append(artm.TopTokensScore(name=\"top_words\",\n",
    "                                              num_tokens=10, topic_names=objective_topics))\n",
    "    return scores_list\n",
    "\n"
   ]
  },
  {
   "cell_type": "markdown",
   "metadata": {},
   "source": [
    "## Get Batch vectorizer"
   ]
  },
  {
   "cell_type": "code",
   "execution_count": 12,
   "metadata": {
    "collapsed": true
   },
   "outputs": [],
   "source": [
    "batch_vectorizer = get_batch_vectorizer(\"contents_batches\", \"contents_wv.txt\")"
   ]
  },
  {
   "cell_type": "code",
   "execution_count": 13,
   "metadata": {
    "collapsed": true
   },
   "outputs": [],
   "source": [
    "dictionary=get_dict(\"contents_batches\")"
   ]
  },
  {
   "cell_type": "code",
   "execution_count": null,
   "metadata": {
    "collapsed": true
   },
   "outputs": [],
   "source": []
  },
  {
   "cell_type": "code",
   "execution_count": 87,
   "metadata": {
    "collapsed": true
   },
   "outputs": [],
   "source": [
    "T = 27\n",
    "topic_names = generate_topic_names(T, 3)\n",
    "all_topics, objective_topics, background_topics = topic_names"
   ]
  },
  {
   "cell_type": "code",
   "execution_count": null,
   "metadata": {
    "collapsed": true
   },
   "outputs": [],
   "source": []
  },
  {
   "cell_type": "code",
   "execution_count": 88,
   "metadata": {
    "collapsed": true
   },
   "outputs": [],
   "source": [
    "devided_model = artm.ARTM(num_topics=T,\n",
    "                          topic_names = topic_names[0],\n",
    "                          cache_theta=True,\n",
    "                          reuse_theta=True,\n",
    "                          theta_columns_naming=\"title\",\n",
    "                          seed=4242,\n",
    "                          num_document_passes=20,\n",
    "                          num_processors = 10,\n",
    "                          class_ids = {\"@content\" :1, \"@title\":25, \"@category_id\" : 200})\n",
    "\n",
    "devided_model.initialize(dictionary)"
   ]
  },
  {
   "cell_type": "code",
   "execution_count": 89,
   "metadata": {
    "collapsed": true
   },
   "outputs": [],
   "source": [
    "_num_tokens =20"
   ]
  },
  {
   "cell_type": "markdown",
   "metadata": {},
   "source": [
    "##                                                 add some scores"
   ]
  },
  {
   "cell_type": "code",
   "execution_count": 90,
   "metadata": {
    "collapsed": true
   },
   "outputs": [],
   "source": [
    "devided_model.scores.add(artm.PerplexityScore(name='perplexity_score'))"
   ]
  },
  {
   "cell_type": "markdown",
   "metadata": {},
   "source": [
    "### top tokens score"
   ]
  },
  {
   "cell_type": "code",
   "execution_count": 91,
   "metadata": {
    "collapsed": true
   },
   "outputs": [],
   "source": [
    "devided_model.scores.add(\n",
    "    artm.TopTokensScore(\n",
    "        name='top_tokens',\n",
    "        num_tokens=_num_tokens, \n",
    "        class_id=\"@content\", \n",
    "        topic_names=all_topics,\n",
    "        ),overwrite=True)\n"
   ]
  },
  {
   "cell_type": "markdown",
   "metadata": {},
   "source": [
    "### objective_sparsity scores"
   ]
  },
  {
   "cell_type": "code",
   "execution_count": 92,
   "metadata": {
    "collapsed": true
   },
   "outputs": [],
   "source": [
    "devided_model.scores.add(\n",
    "    artm.SparsityPhiScore(\n",
    "        name='objective_sparsity_phi', \n",
    "        topic_names=objective_topics), overwrite=True)\n",
    "devided_model.scores.add(\n",
    "    artm.SparsityThetaScore(\n",
    "        name='objective_sparsity_theta',\n",
    "        topic_names=objective_topics),overwrite=True)"
   ]
  },
  {
   "cell_type": "markdown",
   "metadata": {},
   "source": [
    "### background_sparsity scores"
   ]
  },
  {
   "cell_type": "code",
   "execution_count": 93,
   "metadata": {
    "collapsed": true
   },
   "outputs": [],
   "source": [
    "devided_model.scores.add(\n",
    "        artm.SparsityPhiScore(\n",
    "            name='background_sparsity_phi',\n",
    "            topic_names=background_topics))\n",
    "devided_model.scores.add(\n",
    "    artm.SparsityThetaScore(\n",
    "        name='background_sparsity_theta',\n",
    "        topic_names=background_topics),overwrite=True)"
   ]
  },
  {
   "cell_type": "markdown",
   "metadata": {},
   "source": [
    "## add regulirizers"
   ]
  },
  {
   "cell_type": "code",
   "execution_count": 94,
   "metadata": {
    "collapsed": true
   },
   "outputs": [],
   "source": [
    "regs = {\n",
    "    \"objective_sparse_phi\":80,\n",
    "    'objective_sparse_theta':20,   \n",
    "    'background_sparse_phi':-5, \n",
    "    'background_sparse_theta':-12,\n",
    "    'decorrelator_phi':2000\n",
    "}"
   ]
  },
  {
   "cell_type": "markdown",
   "metadata": {},
   "source": [
    "### add objective regulirizers"
   ]
  },
  {
   "cell_type": "code",
   "execution_count": 95,
   "metadata": {
    "collapsed": true
   },
   "outputs": [],
   "source": [
    "devided_model.regularizers.add(\n",
    "                        artm.SmoothSparsePhiRegularizer(\n",
    "                            name='objective_sparse_phi',\n",
    "                            topic_names=objective_topics,\n",
    "                            tau=regs['objective_sparse_phi']),overwrite=True)\n",
    "devided_model.regularizers.add(\n",
    "                        artm.SmoothSparseThetaRegularizer(\n",
    "                            name='objective_sparse_theta',\n",
    "                            topic_names=objective_topics,\n",
    "                            tau=regs['objective_sparse_theta']),overwrite=True)"
   ]
  },
  {
   "cell_type": "markdown",
   "metadata": {},
   "source": [
    "### add background regulirizers"
   ]
  },
  {
   "cell_type": "code",
   "execution_count": 96,
   "metadata": {
    "collapsed": true
   },
   "outputs": [],
   "source": [
    "devided_model.regularizers.add(\n",
    "                        artm.SmoothSparsePhiRegularizer(\n",
    "                            name='background_sparse_phi',\n",
    "                            topic_names=background_topics,\n",
    "                            tau=regs['background_sparse_phi']),\n",
    "                            overwrite= True)\n",
    "devided_model.regularizers.add(\n",
    "                        artm.SmoothSparseThetaRegularizer(\n",
    "                            name='background_sparse_theta',\n",
    "                            topic_names=background_topics,\n",
    "                            tau=regs['background_sparse_theta']),\n",
    "                            overwrite=True)"
   ]
  },
  {
   "cell_type": "markdown",
   "metadata": {},
   "source": [
    "### add decorrelator"
   ]
  },
  {
   "cell_type": "code",
   "execution_count": 97,
   "metadata": {
    "collapsed": true
   },
   "outputs": [],
   "source": [
    "devided_model.regularizers.add(\n",
    "            artm.DecorrelatorPhiRegularizer(\n",
    "                name='decorrelator_phi',\n",
    "                topic_names=objective_topics,\n",
    "                tau=regs['decorrelator_phi'],class_ids =[\"@category_id\", \"@content\"]),overwrite=True)"
   ]
  },
  {
   "cell_type": "markdown",
   "metadata": {},
   "source": [
    "## reinitialize"
   ]
  },
  {
   "cell_type": "code",
   "execution_count": 98,
   "metadata": {
    "collapsed": true
   },
   "outputs": [],
   "source": [
    "devided_model.initialize(dictionary)"
   ]
  },
  {
   "cell_type": "markdown",
   "metadata": {},
   "source": [
    "### fit offline"
   ]
  },
  {
   "cell_type": "code",
   "execution_count": 99,
   "metadata": {
    "collapsed": true
   },
   "outputs": [],
   "source": [
    "devided_model.fit_offline(batch_vectorizer=batch_vectorizer, num_collection_passes=20)"
   ]
  },
  {
   "cell_type": "code",
   "execution_count": 100,
   "metadata": {},
   "outputs": [
    {
     "data": {
      "text/plain": [
       "dict_keys(['objective_topic_9', 'objective_topic_20', 'objective_topic_21', 'objective_topic_22', 'objective_topic_11', 'objective_topic_15', 'objective_topic_23', 'objective_topic_18', 'objective_topic_8', 'objective_topic_16', 'objective_topic_19', 'objective_topic_12', 'objective_topic_1', 'objective_topic_3', 'objective_topic_7', 'objective_topic_17', 'objective_topic_5', 'objective_topic_6', 'objective_topic_10', 'objective_topic_2', 'objective_topic_13', 'objective_topic_4', 'objective_topic_14', 'objective_topic_0'])"
      ]
     },
     "execution_count": 100,
     "metadata": {},
     "output_type": "execute_result"
    }
   ],
   "source": [
    "devided_model.score_tracker['top_tokens'].last_tokens.keys()"
   ]
  },
  {
   "cell_type": "code",
   "execution_count": 101,
   "metadata": {},
   "outputs": [
    {
     "name": "stdout",
     "output_type": "stream",
     "text": [
      "objective_topic_0: альбом музыка песня рок клип музыкант трек группа лейбл музыкальный\n",
      "objective_topic_1: фестиваль сад клад деревня сцена остров территория билет што блокчейн\n",
      "objective_topic_2: альбом з што песня фильм тема фото пра имя_муж фамиия_муж\n",
      "objective_topic_3: татуировка искусство художник выставка галерея арт художественный икона рисовать зритель\n",
      "objective_topic_4: альбом з што песня фильм тема фото пра имя_муж фамиия_муж\n",
      "objective_topic_5: бар событие заведение меню кафе стиль концерт блюдо организатор минск\n",
      "objective_topic_6: кино фильм режиссер сериал кадр снимать кинотеатр зритель герой фестиваль\n",
      "objective_topic_7: секс порно сексуальный мужчина женщина оргазм женский девушка половой эротический\n",
      "objective_topic_8: бар событие заведение меню кафе стиль концерт блюдо организатор минск\n",
      "objective_topic_9: приложение москва создатель дизайн телефон дизайнер проект мобильный устройство альбом\n",
      "objective_topic_10: альбом фильм режиссер диск песня актер сериал персонаж роль герой\n",
      "objective_topic_11: альбом фильм диск режиссер актер песня сериал персонаж роль зритель\n",
      "objective_topic_12: имя_муж фамиия_муж имя_жен тема говорить становиться беларусь делать работать работа\n",
      "objective_topic_13: бар событие заведение меню кафе стиль концерт блюдо организатор минск\n",
      "objective_topic_14: молоко корова украина шапка майдан сми русский статья гражданин журналистика\n",
      "objective_topic_15: структуризация ученый спектакль ген театр мозг птица выставка современный з\n",
      "objective_topic_16: фотография фотограф выставка снимок снимать съемка серия проект фотографировать фестиваль\n",
      "objective_topic_17: банк бизнес компания бизнесмен инвестор предприятие кредит клиент рынок приложение\n",
      "objective_topic_18: чурко дизайн дизайнер што гэт з мян пра рисовать як\n",
      "objective_topic_19: р открытка пользователь музей комментарий городской стрит сайт цех культурный\n",
      "objective_topic_20: бар событие заведение меню кафе стиль концерт блюдо организатор минск\n",
      "objective_topic_21: наваколл коктейль месец водка лидский напиток бармен белок конкурс з\n",
      "objective_topic_22: журнал сайт блог текст што сказка писатель сша литература читать\n",
      "objective_topic_23: лукашенко што з гэт генерал як выступать пра альбом михалка\n",
      "Perplexity: 3223.9013862718907\n",
      "                      background_topic_0  background_topic_1  \\\n",
      "довоенный                            0.0                 0.0   \n",
      "архиерейский                         0.0                 0.0   \n",
      "дальнобойный                         0.0                 0.0   \n",
      "кибертурнир                          0.0                 0.0   \n",
      "шоумейкер                            0.0                 0.0   \n",
      "нубно                                0.0                 0.0   \n",
      "несчитывать                          0.0                 0.0   \n",
      "офсайд                               0.0                 0.0   \n",
      "студанал                             0.0                 0.0   \n",
      "руно                                 0.0                 0.0   \n",
      "стат                                 0.0                 0.0   \n",
      "такоекром                            0.0                 0.0   \n",
      "аганить                              0.0                 0.0   \n",
      "пивоварение                          0.0                 0.0   \n",
      "поташниковво                         0.0                 0.0   \n",
      "полянко                              0.0                 0.0   \n",
      "памятькром                           0.0                 0.0   \n",
      "деньгипобедительница                 0.0                 0.0   \n",
      "клевец                               0.0                 0.0   \n",
      "невер                                0.0                 0.0   \n",
      "ливреяный                            0.0                 0.0   \n",
      "отмыкать                             0.0                 0.0   \n",
      "бытьн                                0.0                 0.0   \n",
      "вместем                              0.0                 0.0   \n",
      "графический                          0.0                 0.0   \n",
      "возвращение                          0.0                 0.0   \n",
      "педаль                               0.0                 0.0   \n",
      "официальныйназвание                  0.0                 0.0   \n",
      "кофманкандидат                       0.0                 0.0   \n",
      "уличныйфото                          0.0                 0.0   \n",
      "...                                  ...                 ...   \n",
      "вяровачный                           0.0                 0.0   \n",
      "нарефакторить                        0.0                 0.0   \n",
      "аджайл                               0.0                 0.0   \n",
      "апрувят                              0.0                 0.0   \n",
      "барко                                0.0                 0.0   \n",
      "продаксить                           0.0                 0.0   \n",
      "коммит                               0.0                 0.0   \n",
      "горбиться                            0.0                 0.0   \n",
      "проджект                             0.0                 0.0   \n",
      "перемеривать                         0.0                 0.0   \n",
      "демка                                0.0                 0.0   \n",
      "белхардбаг                           0.0                 0.0   \n",
      "наставать                            0.0                 0.0   \n",
      "пофиксить                            0.0                 0.0   \n",
      "неблагонадежный                      0.0                 0.0   \n",
      "коренизация                          0.0                 0.0   \n",
      "патоливече                           0.0                 0.0   \n",
      "авиабаза                             0.0                 0.0   \n",
      "междунар                             0.0                 0.0   \n",
      "продлиться                           0.0                 0.0   \n",
      "пуэрто                               0.0                 0.0   \n",
      "дарагуюад                            0.0                 0.0   \n",
      "коржомкука                           0.0                 0.0   \n",
      "вдв                                  0.0                 0.0   \n",
      "школенас                             0.0                 0.0   \n",
      "прелестный                           0.0                 0.0   \n",
      "каризна                              0.0                 0.0   \n",
      "отображение                          0.0                 0.0   \n",
      "отрекомендовываться                  0.0                 0.0   \n",
      "зрительно                            0.0                 0.0   \n",
      "\n",
      "                      background_topic_2  objective_topic_0  \\\n",
      "довоенный                            0.0           0.000146   \n",
      "архиерейский                         0.0           0.000012   \n",
      "дальнобойный                         0.0           0.000012   \n",
      "кибертурнир                          0.0           0.000146   \n",
      "шоумейкер                            0.0           0.000012   \n",
      "нубно                                0.0           0.000012   \n",
      "несчитывать                          0.0           0.000012   \n",
      "офсайд                               0.0           0.000012   \n",
      "студанал                             0.0           0.000012   \n",
      "руно                                 0.0           0.000012   \n",
      "стат                                 0.0           0.000012   \n",
      "такоекром                            0.0           0.000012   \n",
      "аганить                              0.0           0.000012   \n",
      "пивоварение                          0.0           0.000146   \n",
      "поташниковво                         0.0           0.000012   \n",
      "полянко                              0.0           0.000012   \n",
      "памятькром                           0.0           0.000012   \n",
      "деньгипобедительница                 0.0           0.000012   \n",
      "клевец                               0.0           0.000012   \n",
      "невер                                0.0           0.000012   \n",
      "ливреяный                            0.0           0.000012   \n",
      "отмыкать                             0.0           0.000012   \n",
      "бытьн                                0.0           0.000012   \n",
      "вместем                              0.0           0.000012   \n",
      "графический                          0.0           0.000146   \n",
      "возвращение                          0.0           0.000146   \n",
      "педаль                               0.0           0.000146   \n",
      "официальныйназвание                  0.0           0.000012   \n",
      "кофманкандидат                       0.0           0.000012   \n",
      "уличныйфото                          0.0           0.000012   \n",
      "...                                  ...                ...   \n",
      "вяровачный                           0.0           0.000012   \n",
      "нарефакторить                        0.0           0.000012   \n",
      "аджайл                               0.0           0.000012   \n",
      "апрувят                              0.0           0.000012   \n",
      "барко                                0.0           0.000012   \n",
      "продаксить                           0.0           0.000012   \n",
      "коммит                               0.0           0.000012   \n",
      "горбиться                            0.0           0.000012   \n",
      "проджект                             0.0           0.000012   \n",
      "перемеривать                         0.0           0.000012   \n",
      "демка                                0.0           0.000012   \n",
      "белхардбаг                           0.0           0.000012   \n",
      "наставать                            0.0           0.000146   \n",
      "пофиксить                            0.0           0.000146   \n",
      "неблагонадежный                      0.0           0.000012   \n",
      "коренизация                          0.0           0.000012   \n",
      "патоливече                           0.0           0.000012   \n",
      "авиабаза                             0.0           0.000012   \n",
      "междунар                             0.0           0.000012   \n",
      "продлиться                           0.0           0.000146   \n",
      "пуэрто                               0.0           0.000012   \n",
      "дарагуюад                            0.0           0.000012   \n",
      "коржомкука                           0.0           0.000012   \n",
      "вдв                                  0.0           0.000147   \n",
      "школенас                             0.0           0.000012   \n",
      "прелестный                           0.0           0.000012   \n",
      "каризна                              0.0           0.000012   \n",
      "отображение                          0.0           0.000012   \n",
      "отрекомендовываться                  0.0           0.000012   \n",
      "зрительно                            0.0           0.000012   \n",
      "\n",
      "                      objective_topic_1  objective_topic_2  objective_topic_3  \\\n",
      "довоенный                      0.000146           0.000146           0.000146   \n",
      "архиерейский                   0.000012           0.000012           0.000012   \n",
      "дальнобойный                   0.000012           0.000012           0.000012   \n",
      "кибертурнир                    0.000146           0.000146           0.000146   \n",
      "шоумейкер                      0.000012           0.000012           0.000012   \n",
      "нубно                          0.000012           0.000012           0.000012   \n",
      "несчитывать                    0.000012           0.000012           0.000012   \n",
      "офсайд                         0.000012           0.000012           0.000012   \n",
      "студанал                       0.000012           0.000012           0.000012   \n",
      "руно                           0.000012           0.000012           0.000012   \n",
      "стат                           0.000012           0.000012           0.000012   \n",
      "такоекром                      0.000012           0.000012           0.000012   \n",
      "аганить                        0.000012           0.000012           0.000012   \n",
      "пивоварение                    0.000146           0.000146           0.000146   \n",
      "поташниковво                   0.000012           0.000012           0.000012   \n",
      "полянко                        0.000012           0.000012           0.000012   \n",
      "памятькром                     0.000012           0.000012           0.000012   \n",
      "деньгипобедительница           0.000012           0.000012           0.000012   \n",
      "клевец                         0.000012           0.000012           0.000012   \n",
      "невер                          0.000012           0.000012           0.000012   \n",
      "ливреяный                      0.000012           0.000012           0.000012   \n",
      "отмыкать                       0.000012           0.000012           0.000012   \n",
      "бытьн                          0.000012           0.000012           0.000012   \n",
      "вместем                        0.000012           0.000012           0.000012   \n",
      "графический                    0.000146           0.000146           0.000146   \n",
      "возвращение                    0.000146           0.000146           0.000146   \n",
      "педаль                         0.000146           0.000146           0.000146   \n",
      "официальныйназвание            0.000012           0.000012           0.000012   \n",
      "кофманкандидат                 0.000012           0.000012           0.000012   \n",
      "уличныйфото                    0.000012           0.000012           0.000012   \n",
      "...                                 ...                ...                ...   \n",
      "вяровачный                     0.000012           0.000012           0.000012   \n",
      "нарефакторить                  0.000012           0.000012           0.000012   \n",
      "аджайл                         0.000012           0.000012           0.000012   \n",
      "апрувят                        0.000012           0.000012           0.000012   \n",
      "барко                          0.000012           0.000012           0.000012   \n",
      "продаксить                     0.000012           0.000012           0.000012   \n",
      "коммит                         0.000012           0.000012           0.000012   \n",
      "горбиться                      0.000012           0.000012           0.000012   \n",
      "проджект                       0.000012           0.000012           0.000012   \n",
      "перемеривать                   0.000012           0.000012           0.000012   \n",
      "демка                          0.000012           0.000012           0.000012   \n",
      "белхардбаг                     0.000012           0.000012           0.000012   \n",
      "наставать                      0.000146           0.000146           0.000146   \n",
      "пофиксить                      0.000146           0.000146           0.000146   \n",
      "неблагонадежный                0.000012           0.000012           0.000012   \n",
      "коренизация                    0.000012           0.000012           0.000012   \n",
      "патоливече                     0.000012           0.000012           0.000012   \n",
      "авиабаза                       0.000012           0.000012           0.000012   \n",
      "междунар                       0.000012           0.000012           0.000012   \n",
      "продлиться                     0.000146           0.000146           0.000146   \n",
      "пуэрто                         0.000012           0.000012           0.000012   \n",
      "дарагуюад                      0.000012           0.000012           0.000012   \n",
      "коржомкука                     0.000012           0.000012           0.000012   \n",
      "вдв                            0.000147           0.000148           0.000147   \n",
      "школенас                       0.000012           0.000012           0.000012   \n",
      "прелестный                     0.000012           0.000012           0.000012   \n",
      "каризна                        0.000012           0.000012           0.000012   \n",
      "отображение                    0.000012           0.000012           0.000012   \n",
      "отрекомендовываться            0.000012           0.000012           0.000012   \n",
      "зрительно                      0.000012           0.000012           0.000012   \n",
      "\n",
      "                      objective_topic_4  objective_topic_5  objective_topic_6  \\\n",
      "довоенный                      0.000146           0.000148           0.000146   \n",
      "архиерейский                   0.000012           0.000012           0.000012   \n",
      "дальнобойный                   0.000012           0.000012           0.000012   \n",
      "кибертурнир                    0.000146           0.000145           0.000146   \n",
      "шоумейкер                      0.000012           0.000011           0.000012   \n",
      "нубно                          0.000012           0.000011           0.000012   \n",
      "несчитывать                    0.000012           0.000011           0.000012   \n",
      "офсайд                         0.000012           0.000011           0.000012   \n",
      "студанал                       0.000012           0.000011           0.000012   \n",
      "руно                           0.000012           0.000011           0.000012   \n",
      "стат                           0.000012           0.000012           0.000012   \n",
      "такоекром                      0.000012           0.000011           0.000012   \n",
      "аганить                        0.000012           0.000012           0.000012   \n",
      "пивоварение                    0.000146           0.000145           0.000146   \n",
      "поташниковво                   0.000012           0.000011           0.000012   \n",
      "полянко                        0.000012           0.000012           0.000012   \n",
      "памятькром                     0.000012           0.000011           0.000012   \n",
      "деньгипобедительница           0.000012           0.000011           0.000012   \n",
      "клевец                         0.000012           0.000012           0.000012   \n",
      "невер                          0.000012           0.000011           0.000012   \n",
      "ливреяный                      0.000012           0.000012           0.000012   \n",
      "отмыкать                       0.000012           0.000012           0.000012   \n",
      "бытьн                          0.000012           0.000012           0.000012   \n",
      "вместем                        0.000012           0.000012           0.000012   \n",
      "графический                    0.000146           0.000147           0.000146   \n",
      "возвращение                    0.000146           0.000147           0.000146   \n",
      "педаль                         0.000146           0.000147           0.000146   \n",
      "официальныйназвание            0.000012           0.000012           0.000012   \n",
      "кофманкандидат                 0.000012           0.000012           0.000012   \n",
      "уличныйфото                    0.000012           0.000012           0.000012   \n",
      "...                                 ...                ...                ...   \n",
      "вяровачный                     0.000012           0.000011           0.000012   \n",
      "нарефакторить                  0.000012           0.000011           0.000012   \n",
      "аджайл                         0.000012           0.000011           0.000012   \n",
      "апрувят                        0.000012           0.000012           0.000012   \n",
      "барко                          0.000012           0.000011           0.000012   \n",
      "продаксить                     0.000012           0.000012           0.000012   \n",
      "коммит                         0.000012           0.000011           0.000012   \n",
      "горбиться                      0.000012           0.000011           0.000012   \n",
      "проджект                       0.000012           0.000011           0.000012   \n",
      "перемеривать                   0.000012           0.000012           0.000012   \n",
      "демка                          0.000012           0.000012           0.000012   \n",
      "белхардбаг                     0.000012           0.000011           0.000012   \n",
      "наставать                      0.000146           0.000148           0.000146   \n",
      "пофиксить                      0.000146           0.000145           0.000146   \n",
      "неблагонадежный                0.000012           0.000012           0.000012   \n",
      "коренизация                    0.000012           0.000011           0.000012   \n",
      "патоливече                     0.000012           0.000011           0.000012   \n",
      "авиабаза                       0.000012           0.000012           0.000012   \n",
      "междунар                       0.000012           0.000011           0.000012   \n",
      "продлиться                     0.000146           0.000145           0.000146   \n",
      "пуэрто                         0.000012           0.000012           0.000012   \n",
      "дарагуюад                      0.000012           0.000011           0.000012   \n",
      "коржомкука                     0.000012           0.000011           0.000012   \n",
      "вдв                            0.000148           0.000146           0.000147   \n",
      "школенас                       0.000012           0.000011           0.000012   \n",
      "прелестный                     0.000012           0.000012           0.000012   \n",
      "каризна                        0.000012           0.000011           0.000012   \n",
      "отображение                    0.000012           0.000012           0.000012   \n",
      "отрекомендовываться            0.000012           0.000011           0.000012   \n",
      "зрительно                      0.000012           0.000012           0.000012   \n",
      "\n",
      "                             ...          objective_topic_14  \\\n",
      "довоенный                    ...                    0.000145   \n",
      "архиерейский                 ...                    0.000011   \n",
      "дальнобойный                 ...                    0.000011   \n",
      "кибертурнир                  ...                    0.000145   \n",
      "шоумейкер                    ...                    0.000011   \n",
      "нубно                        ...                    0.000011   \n",
      "несчитывать                  ...                    0.000011   \n",
      "офсайд                       ...                    0.000011   \n",
      "студанал                     ...                    0.000011   \n",
      "руно                         ...                    0.000011   \n",
      "стат                         ...                    0.000012   \n",
      "такоекром                    ...                    0.000011   \n",
      "аганить                      ...                    0.000012   \n",
      "пивоварение                  ...                    0.000145   \n",
      "поташниковво                 ...                    0.000011   \n",
      "полянко                      ...                    0.000012   \n",
      "памятькром                   ...                    0.000011   \n",
      "деньгипобедительница         ...                    0.000011   \n",
      "клевец                       ...                    0.000012   \n",
      "невер                        ...                    0.000011   \n",
      "ливреяный                    ...                    0.000011   \n",
      "отмыкать                     ...                    0.000011   \n",
      "бытьн                        ...                    0.000011   \n",
      "вместем                      ...                    0.000011   \n",
      "графический                  ...                    0.000145   \n",
      "возвращение                  ...                    0.000145   \n",
      "педаль                       ...                    0.000145   \n",
      "официальныйназвание          ...                    0.000011   \n",
      "кофманкандидат               ...                    0.000011   \n",
      "уличныйфото                  ...                    0.000011   \n",
      "...                          ...                         ...   \n",
      "вяровачный                   ...                    0.000011   \n",
      "нарефакторить                ...                    0.000011   \n",
      "аджайл                       ...                    0.000011   \n",
      "апрувят                      ...                    0.000012   \n",
      "барко                        ...                    0.000011   \n",
      "продаксить                   ...                    0.000012   \n",
      "коммит                       ...                    0.000011   \n",
      "горбиться                    ...                    0.000011   \n",
      "проджект                     ...                    0.000011   \n",
      "перемеривать                 ...                    0.000012   \n",
      "демка                        ...                    0.000012   \n",
      "белхардбаг                   ...                    0.000011   \n",
      "наставать                    ...                    0.000145   \n",
      "пофиксить                    ...                    0.000145   \n",
      "неблагонадежный              ...                    0.000012   \n",
      "коренизация                  ...                    0.000011   \n",
      "патоливече                   ...                    0.000011   \n",
      "авиабаза                     ...                    0.000012   \n",
      "междунар                     ...                    0.000011   \n",
      "продлиться                   ...                    0.000145   \n",
      "пуэрто                       ...                    0.000012   \n",
      "дарагуюад                    ...                    0.000011   \n",
      "коржомкука                   ...                    0.000011   \n",
      "вдв                          ...                    0.000147   \n",
      "школенас                     ...                    0.000011   \n",
      "прелестный                   ...                    0.000012   \n",
      "каризна                      ...                    0.000011   \n",
      "отображение                  ...                    0.000012   \n",
      "отрекомендовываться          ...                    0.000011   \n",
      "зрительно                    ...                    0.000011   \n",
      "\n",
      "                      objective_topic_15  objective_topic_16  \\\n",
      "довоенный                       0.000146            0.000146   \n",
      "архиерейский                    0.000012            0.000012   \n",
      "дальнобойный                    0.000012            0.000012   \n",
      "кибертурнир                     0.000146            0.000146   \n",
      "шоумейкер                       0.000012            0.000012   \n",
      "нубно                           0.000012            0.000012   \n",
      "несчитывать                     0.000012            0.000012   \n",
      "офсайд                          0.000012            0.000012   \n",
      "студанал                        0.000012            0.000012   \n",
      "руно                            0.000012            0.000012   \n",
      "стат                            0.000012            0.000012   \n",
      "такоекром                       0.000012            0.000012   \n",
      "аганить                         0.000012            0.000012   \n",
      "пивоварение                     0.000146            0.000146   \n",
      "поташниковво                    0.000012            0.000012   \n",
      "полянко                         0.000012            0.000012   \n",
      "памятькром                      0.000012            0.000012   \n",
      "деньгипобедительница            0.000012            0.000012   \n",
      "клевец                          0.000012            0.000012   \n",
      "невер                           0.000012            0.000012   \n",
      "ливреяный                       0.000012            0.000012   \n",
      "отмыкать                        0.000012            0.000012   \n",
      "бытьн                           0.000012            0.000012   \n",
      "вместем                         0.000012            0.000012   \n",
      "графический                     0.000146            0.000146   \n",
      "возвращение                     0.000146            0.000146   \n",
      "педаль                          0.000146            0.000146   \n",
      "официальныйназвание             0.000012            0.000012   \n",
      "кофманкандидат                  0.000012            0.000012   \n",
      "уличныйфото                     0.000012            0.000012   \n",
      "...                                  ...                 ...   \n",
      "вяровачный                      0.000012            0.000012   \n",
      "нарефакторить                   0.000012            0.000012   \n",
      "аджайл                          0.000012            0.000012   \n",
      "апрувят                         0.000012            0.000012   \n",
      "барко                           0.000012            0.000012   \n",
      "продаксить                      0.000012            0.000012   \n",
      "коммит                          0.000012            0.000012   \n",
      "горбиться                       0.000012            0.000012   \n",
      "проджект                        0.000012            0.000012   \n",
      "перемеривать                    0.000012            0.000012   \n",
      "демка                           0.000012            0.000012   \n",
      "белхардбаг                      0.000012            0.000012   \n",
      "наставать                       0.000146            0.000146   \n",
      "пофиксить                       0.000146            0.000146   \n",
      "неблагонадежный                 0.000012            0.000012   \n",
      "коренизация                     0.000012            0.000012   \n",
      "патоливече                      0.000012            0.000012   \n",
      "авиабаза                        0.000012            0.000012   \n",
      "междунар                        0.000012            0.000012   \n",
      "продлиться                      0.000146            0.000146   \n",
      "пуэрто                          0.000012            0.000012   \n",
      "дарагуюад                       0.000012            0.000012   \n",
      "коржомкука                      0.000012            0.000012   \n",
      "вдв                             0.000147            0.000147   \n",
      "школенас                        0.000012            0.000012   \n",
      "прелестный                      0.000012            0.000012   \n",
      "каризна                         0.000012            0.000012   \n",
      "отображение                     0.000012            0.000012   \n",
      "отрекомендовываться             0.000012            0.000012   \n",
      "зрительно                       0.000012            0.000012   \n",
      "\n",
      "                      objective_topic_17  objective_topic_18  \\\n",
      "довоенный                       0.000144            0.000146   \n",
      "архиерейский                    0.000011            0.000012   \n",
      "дальнобойный                    0.000011            0.000012   \n",
      "кибертурнир                     0.000144            0.000146   \n",
      "шоумейкер                       0.000011            0.000012   \n",
      "нубно                           0.000011            0.000012   \n",
      "несчитывать                     0.000011            0.000012   \n",
      "офсайд                          0.000011            0.000012   \n",
      "студанал                        0.000011            0.000012   \n",
      "руно                            0.000011            0.000012   \n",
      "стат                            0.000011            0.000012   \n",
      "такоекром                       0.000011            0.000012   \n",
      "аганить                         0.000011            0.000012   \n",
      "пивоварение                     0.000144            0.000146   \n",
      "поташниковво                    0.000011            0.000012   \n",
      "полянко                         0.000011            0.000012   \n",
      "памятькром                      0.000011            0.000012   \n",
      "деньгипобедительница            0.000011            0.000012   \n",
      "клевец                          0.000011            0.000012   \n",
      "невер                           0.000011            0.000012   \n",
      "ливреяный                       0.000011            0.000012   \n",
      "отмыкать                        0.000011            0.000012   \n",
      "бытьн                           0.000011            0.000012   \n",
      "вместем                         0.000011            0.000012   \n",
      "графический                     0.000144            0.000146   \n",
      "возвращение                     0.000144            0.000146   \n",
      "педаль                          0.000144            0.000146   \n",
      "официальныйназвание             0.000011            0.000012   \n",
      "кофманкандидат                  0.000011            0.000012   \n",
      "уличныйфото                     0.000011            0.000012   \n",
      "...                                  ...                 ...   \n",
      "вяровачный                      0.000011            0.000012   \n",
      "нарефакторить                   0.000011            0.000012   \n",
      "аджайл                          0.000011            0.000012   \n",
      "апрувят                         0.000011            0.000012   \n",
      "барко                           0.000011            0.000012   \n",
      "продаксить                      0.000011            0.000012   \n",
      "коммит                          0.000011            0.000012   \n",
      "горбиться                       0.000011            0.000012   \n",
      "проджект                        0.000011            0.000012   \n",
      "перемеривать                    0.000011            0.000012   \n",
      "демка                           0.000011            0.000012   \n",
      "белхардбаг                      0.000011            0.000012   \n",
      "наставать                       0.000144            0.000146   \n",
      "пофиксить                       0.000144            0.000146   \n",
      "неблагонадежный                 0.000011            0.000012   \n",
      "коренизация                     0.000011            0.000012   \n",
      "патоливече                      0.000011            0.000012   \n",
      "авиабаза                        0.000012            0.000012   \n",
      "междунар                        0.000011            0.000012   \n",
      "продлиться                      0.000144            0.000146   \n",
      "пуэрто                          0.000011            0.000012   \n",
      "дарагуюад                       0.000011            0.000012   \n",
      "коржомкука                      0.000011            0.000012   \n",
      "вдв                             0.000145            0.000147   \n",
      "школенас                        0.000011            0.000012   \n",
      "прелестный                      0.000012            0.000012   \n",
      "каризна                         0.000011            0.000012   \n",
      "отображение                     0.000012            0.000012   \n",
      "отрекомендовываться             0.000011            0.000012   \n",
      "зрительно                       0.000011            0.000012   \n",
      "\n",
      "                      objective_topic_19  objective_topic_20  \\\n",
      "довоенный                       0.000146            0.000148   \n",
      "архиерейский                    0.000012            0.000012   \n",
      "дальнобойный                    0.000012            0.000012   \n",
      "кибертурнир                     0.000146            0.000145   \n",
      "шоумейкер                       0.000012            0.000011   \n",
      "нубно                           0.000012            0.000011   \n",
      "несчитывать                     0.000012            0.000011   \n",
      "офсайд                          0.000012            0.000011   \n",
      "студанал                        0.000012            0.000011   \n",
      "руно                            0.000012            0.000011   \n",
      "стат                            0.000012            0.000012   \n",
      "такоекром                       0.000012            0.000011   \n",
      "аганить                         0.000012            0.000012   \n",
      "пивоварение                     0.000146            0.000145   \n",
      "поташниковво                    0.000012            0.000011   \n",
      "полянко                         0.000012            0.000012   \n",
      "памятькром                      0.000012            0.000011   \n",
      "деньгипобедительница            0.000012            0.000011   \n",
      "клевец                          0.000012            0.000012   \n",
      "невер                           0.000012            0.000011   \n",
      "ливреяный                       0.000012            0.000012   \n",
      "отмыкать                        0.000012            0.000012   \n",
      "бытьн                           0.000012            0.000012   \n",
      "вместем                         0.000012            0.000012   \n",
      "графический                     0.000146            0.000147   \n",
      "возвращение                     0.000146            0.000147   \n",
      "педаль                          0.000146            0.000147   \n",
      "официальныйназвание             0.000012            0.000012   \n",
      "кофманкандидат                  0.000012            0.000012   \n",
      "уличныйфото                     0.000012            0.000012   \n",
      "...                                  ...                 ...   \n",
      "вяровачный                      0.000012            0.000011   \n",
      "нарефакторить                   0.000012            0.000011   \n",
      "аджайл                          0.000012            0.000011   \n",
      "апрувят                         0.000012            0.000012   \n",
      "барко                           0.000012            0.000011   \n",
      "продаксить                      0.000012            0.000012   \n",
      "коммит                          0.000012            0.000011   \n",
      "горбиться                       0.000012            0.000011   \n",
      "проджект                        0.000012            0.000011   \n",
      "перемеривать                    0.000012            0.000012   \n",
      "демка                           0.000012            0.000012   \n",
      "белхардбаг                      0.000012            0.000011   \n",
      "наставать                       0.000146            0.000148   \n",
      "пофиксить                       0.000146            0.000145   \n",
      "неблагонадежный                 0.000012            0.000012   \n",
      "коренизация                     0.000012            0.000011   \n",
      "патоливече                      0.000012            0.000011   \n",
      "авиабаза                        0.000012            0.000012   \n",
      "междунар                        0.000012            0.000011   \n",
      "продлиться                      0.000146            0.000145   \n",
      "пуэрто                          0.000012            0.000012   \n",
      "дарагуюад                       0.000012            0.000011   \n",
      "коржомкука                      0.000012            0.000011   \n",
      "вдв                             0.000147            0.000146   \n",
      "школенас                        0.000012            0.000011   \n",
      "прелестный                      0.000012            0.000012   \n",
      "каризна                         0.000012            0.000011   \n",
      "отображение                     0.000012            0.000012   \n",
      "отрекомендовываться             0.000012            0.000011   \n",
      "зрительно                       0.000012            0.000012   \n",
      "\n",
      "                      objective_topic_21  objective_topic_22  \\\n",
      "довоенный                       0.000145            0.000146   \n",
      "архиерейский                    0.000011            0.000012   \n",
      "дальнобойный                    0.000011            0.000012   \n",
      "кибертурнир                     0.000145            0.000146   \n",
      "шоумейкер                       0.000011            0.000012   \n",
      "нубно                           0.000011            0.000012   \n",
      "несчитывать                     0.000011            0.000012   \n",
      "офсайд                          0.000011            0.000012   \n",
      "студанал                        0.000011            0.000012   \n",
      "руно                            0.000011            0.000012   \n",
      "стат                            0.000011            0.000012   \n",
      "такоекром                       0.000011            0.000012   \n",
      "аганить                         0.000011            0.000012   \n",
      "пивоварение                     0.000155            0.000146   \n",
      "поташниковво                    0.000012            0.000012   \n",
      "полянко                         0.000012            0.000012   \n",
      "памятькром                      0.000012            0.000012   \n",
      "деньгипобедительница            0.000012            0.000012   \n",
      "клевец                          0.000012            0.000012   \n",
      "невер                           0.000012            0.000012   \n",
      "ливреяный                       0.000011            0.000012   \n",
      "отмыкать                        0.000011            0.000012   \n",
      "бытьн                           0.000011            0.000012   \n",
      "вместем                         0.000011            0.000012   \n",
      "графический                     0.000145            0.000146   \n",
      "возвращение                     0.000145            0.000146   \n",
      "педаль                          0.000145            0.000146   \n",
      "официальныйназвание             0.000011            0.000012   \n",
      "кофманкандидат                  0.000011            0.000012   \n",
      "уличныйфото                     0.000011            0.000012   \n",
      "...                                  ...                 ...   \n",
      "вяровачный                      0.000011            0.000012   \n",
      "нарефакторить                   0.000012            0.000012   \n",
      "аджайл                          0.000012            0.000012   \n",
      "апрувят                         0.000012            0.000012   \n",
      "барко                           0.000011            0.000012   \n",
      "продаксить                      0.000012            0.000012   \n",
      "коммит                          0.000012            0.000012   \n",
      "горбиться                       0.000011            0.000012   \n",
      "проджект                        0.000012            0.000012   \n",
      "перемеривать                    0.000011            0.000012   \n",
      "демка                           0.000012            0.000012   \n",
      "белхардбаг                      0.000012            0.000012   \n",
      "наставать                       0.000145            0.000146   \n",
      "пофиксить                       0.000156            0.000146   \n",
      "неблагонадежный                 0.000011            0.000012   \n",
      "коренизация                     0.000011            0.000012   \n",
      "патоливече                      0.000011            0.000012   \n",
      "авиабаза                        0.000012            0.000012   \n",
      "междунар                        0.000011            0.000012   \n",
      "продлиться                      0.000145            0.000146   \n",
      "пуэрто                          0.000012            0.000012   \n",
      "дарагуюад                       0.000011            0.000012   \n",
      "коржомкука                      0.000011            0.000012   \n",
      "вдв                             0.000146            0.000147   \n",
      "школенас                        0.000012            0.000012   \n",
      "прелестный                      0.000012            0.000012   \n",
      "каризна                         0.000011            0.000012   \n",
      "отображение                     0.000012            0.000012   \n",
      "отрекомендовываться             0.000011            0.000012   \n",
      "зрительно                       0.000011            0.000012   \n",
      "\n",
      "                      objective_topic_23  \n",
      "довоенный                       0.000145  \n",
      "архиерейский                    0.000012  \n",
      "дальнобойный                    0.000012  \n",
      "кибертурнир                     0.000145  \n",
      "шоумейкер                       0.000012  \n",
      "нубно                           0.000012  \n",
      "несчитывать                     0.000012  \n",
      "офсайд                          0.000012  \n",
      "студанал                        0.000012  \n",
      "руно                            0.000012  \n",
      "стат                            0.000012  \n",
      "такоекром                       0.000012  \n",
      "аганить                         0.000012  \n",
      "пивоварение                     0.000145  \n",
      "поташниковво                    0.000012  \n",
      "полянко                         0.000012  \n",
      "памятькром                      0.000012  \n",
      "деньгипобедительница            0.000012  \n",
      "клевец                          0.000012  \n",
      "невер                           0.000012  \n",
      "ливреяный                       0.000012  \n",
      "отмыкать                        0.000012  \n",
      "бытьн                           0.000012  \n",
      "вместем                         0.000012  \n",
      "графический                     0.000145  \n",
      "возвращение                     0.000145  \n",
      "педаль                          0.000145  \n",
      "официальныйназвание             0.000012  \n",
      "кофманкандидат                  0.000012  \n",
      "уличныйфото                     0.000012  \n",
      "...                                  ...  \n",
      "вяровачный                      0.000012  \n",
      "нарефакторить                   0.000012  \n",
      "аджайл                          0.000012  \n",
      "апрувят                         0.000012  \n",
      "барко                           0.000012  \n",
      "продаксить                      0.000012  \n",
      "коммит                          0.000012  \n",
      "горбиться                       0.000012  \n",
      "проджект                        0.000012  \n",
      "перемеривать                    0.000012  \n",
      "демка                           0.000012  \n",
      "белхардбаг                      0.000012  \n",
      "наставать                       0.000146  \n",
      "пофиксить                       0.000146  \n",
      "неблагонадежный                 0.000012  \n",
      "коренизация                     0.000012  \n",
      "патоливече                      0.000012  \n",
      "авиабаза                        0.000012  \n",
      "междунар                        0.000012  \n",
      "продлиться                      0.000145  \n",
      "пуэрто                          0.000012  \n",
      "дарагуюад                       0.000012  \n",
      "коржомкука                      0.000012  \n",
      "вдв                             0.000147  \n",
      "школенас                        0.000012  \n",
      "прелестный                      0.000012  \n",
      "каризна                         0.000012  \n",
      "отображение                     0.000012  \n",
      "отрекомендовываться             0.000012  \n",
      "зрительно                       0.000012  \n",
      "\n",
      "[93406 rows x 27 columns]\n",
      "                        1001      1002      1003      1004      1005  \\\n",
      "background_topic_0  0.000000  0.000000  0.000000  0.000000  0.000000   \n",
      "background_topic_1  0.000000  0.000000  0.000000  0.000000  0.000000   \n",
      "background_topic_2  0.000000  0.000000  0.000000  0.000000  0.000000   \n",
      "objective_topic_0   0.026031  0.021629  0.018305  0.026750  0.019428   \n",
      "objective_topic_1   0.026152  0.021884  0.018376  0.026876  0.019519   \n",
      "objective_topic_2   0.026220  0.023024  0.018430  0.044124  0.019578   \n",
      "objective_topic_3   0.026109  0.021765  0.018312  0.026811  0.019481   \n",
      "objective_topic_4   0.026219  0.023004  0.018430  0.044200  0.019577   \n",
      "objective_topic_5   0.026076  0.021665  0.063169  0.026723  0.019452   \n",
      "objective_topic_6   0.026194  0.022144  0.018396  0.026952  0.019554   \n",
      "objective_topic_7   0.026016  0.021615  0.018332  0.026684  0.019471   \n",
      "objective_topic_8   0.026076  0.021665  0.063170  0.026723  0.019452   \n",
      "objective_topic_9   0.026230  0.023138  0.018442  0.027033  0.019588   \n",
      "objective_topic_10  0.026080  0.082847  0.018305  0.027007  0.019457   \n",
      "objective_topic_11  0.026099  0.170171  0.018341  0.026758  0.019483   \n",
      "objective_topic_12  0.137059  0.286166  0.398689  0.348730  0.358577   \n",
      "objective_topic_13  0.026076  0.021665  0.063188  0.026723  0.019452   \n",
      "objective_topic_14  0.026275  0.021614  0.018277  0.026876  0.212552   \n",
      "objective_topic_15  0.026127  0.021791  0.018331  0.026842  0.019496   \n",
      "objective_topic_16  0.026207  0.022366  0.018416  0.026984  0.019567   \n",
      "objective_topic_17  0.026216  0.021640  0.018327  0.026658  0.019590   \n",
      "objective_topic_18  0.026150  0.021874  0.018357  0.026877  0.019518   \n",
      "objective_topic_19  0.026073  0.021659  0.018318  0.026758  0.019451   \n",
      "objective_topic_20  0.026076  0.021665  0.063167  0.026723  0.019452   \n",
      "objective_topic_21  0.026003  0.021664  0.018344  0.026699  0.019423   \n",
      "objective_topic_22  0.026159  0.021684  0.018299  0.026777  0.019458   \n",
      "objective_topic_23  0.288076  0.021662  0.018278  0.026711  0.019425   \n",
      "\n",
      "                        1006      1007      1008      1009      1010  \\\n",
      "background_topic_0  0.000000  0.000000  0.000000  0.000000  0.000000   \n",
      "background_topic_1  0.000000  0.000000  0.000000  0.000000  0.000000   \n",
      "background_topic_2  0.000000  0.000000  0.000000  0.000000  0.000000   \n",
      "objective_topic_0   0.015586  0.024777  0.028418  0.029197  0.025190   \n",
      "objective_topic_1   0.015611  0.024971  0.028613  0.029550  0.025801   \n",
      "objective_topic_2   0.018141  0.025210  0.053668  0.031130  0.026159   \n",
      "objective_topic_3   0.015596  0.024882  0.028528  0.029366  0.025557   \n",
      "objective_topic_4   0.018149  0.025209  0.053794  0.031104  0.026156   \n",
      "objective_topic_5   0.015617  0.024805  0.028382  0.029165  0.025152   \n",
      "objective_topic_6   0.015620  0.025086  0.028708  0.029927  0.026021   \n",
      "objective_topic_7   0.015627  0.024741  0.028354  0.029211  0.025049   \n",
      "objective_topic_8   0.015617  0.024805  0.028382  0.029165  0.025152   \n",
      "objective_topic_9   0.015636  0.025328  0.028814  0.031289  0.026291   \n",
      "objective_topic_10  0.015640  0.024900  0.028758  0.115402  0.025334   \n",
      "objective_topic_11  0.015646  0.024904  0.028308  0.224222  0.024928   \n",
      "objective_topic_12  0.635680  0.175666  0.294081  0.038502  0.180895   \n",
      "objective_topic_13  0.015617  0.024805  0.028382  0.029165  0.025152   \n",
      "objective_topic_14  0.015628  0.024871  0.028363  0.029165  0.025051   \n",
      "objective_topic_15  0.015603  0.024925  0.028649  0.029440  0.258867   \n",
      "objective_topic_16  0.015626  0.025140  0.028749  0.030230  0.026107   \n",
      "objective_topic_17  0.015676  0.275806  0.028369  0.029154  0.025047   \n",
      "objective_topic_18  0.015609  0.024978  0.028612  0.029551  0.025794   \n",
      "objective_topic_19  0.015592  0.024819  0.028467  0.029251  0.025394   \n",
      "objective_topic_20  0.015617  0.024805  0.028382  0.029165  0.025152   \n",
      "objective_topic_21  0.015669  0.024953  0.028336  0.029144  0.025193   \n",
      "objective_topic_22  0.015594  0.024836  0.028485  0.029290  0.025416   \n",
      "objective_topic_23  0.015601  0.024778  0.028395  0.029213  0.025142   \n",
      "\n",
      "                      ...          991       992       993       994  \\\n",
      "background_topic_0    ...     0.000000  0.000000  0.000000  0.000000   \n",
      "background_topic_1    ...     0.000000  0.000000  0.000000  0.000000   \n",
      "background_topic_2    ...     0.000000  0.000000  0.000000  0.000000   \n",
      "objective_topic_0     ...     0.023441  0.025097  0.023396  0.015416   \n",
      "objective_topic_1     ...     0.023748  0.025218  0.023479  0.015477   \n",
      "objective_topic_2     ...     0.024974  0.037882  0.023543  0.015521   \n",
      "objective_topic_3     ...     0.023579  0.025161  0.023417  0.015443   \n",
      "objective_topic_4     ...     0.024953  0.037933  0.023542  0.015521   \n",
      "objective_topic_5     ...     0.023473  0.025087  0.023364  0.015444   \n",
      "objective_topic_6     ...     0.024025  0.025272  0.023509  0.015501   \n",
      "objective_topic_7     ...     0.023457  0.025091  0.023345  0.015426   \n",
      "objective_topic_8     ...     0.023473  0.025087  0.023364  0.015444   \n",
      "objective_topic_9     ...     0.025096  0.025399  0.023551  0.015569   \n",
      "objective_topic_10    ...     0.088709  0.025309  0.023427  0.015436   \n",
      "objective_topic_11    ...     0.187257  0.025074  0.023624  0.015520   \n",
      "objective_topic_12    ...     0.224301  0.395756  0.218946  0.491834   \n",
      "objective_topic_13    ...     0.023473  0.025087  0.023364  0.015444   \n",
      "objective_topic_14    ...     0.023420  0.025087  0.023331  0.167874   \n",
      "objective_topic_15    ...     0.023647  0.025184  0.023439  0.015463   \n",
      "objective_topic_16    ...     0.024250  0.025296  0.023523  0.015512   \n",
      "objective_topic_17    ...     0.023344  0.025183  0.023308  0.015504   \n",
      "objective_topic_18    ...     0.023813  0.025214  0.023497  0.015473   \n",
      "objective_topic_19    ...     0.023488  0.025124  0.023371  0.015426   \n",
      "objective_topic_20    ...     0.023473  0.025087  0.023364  0.015444   \n",
      "objective_topic_21    ...     0.023528  0.025067  0.265432  0.015432   \n",
      "objective_topic_22    ...     0.023554  0.025135  0.023448  0.015432   \n",
      "objective_topic_23    ...     0.023525  0.025170  0.023419  0.015444   \n",
      "\n",
      "                         995       996       997       998       999      1000  \n",
      "background_topic_0  0.000000  0.000000  0.000000  0.000000  0.000000  0.000000  \n",
      "background_topic_1  0.000000  0.000000  0.000000  0.000000  0.000000  0.000000  \n",
      "background_topic_2  0.000000  0.000000  0.000000  0.000000  0.000000  0.000000  \n",
      "objective_topic_0   0.026610  0.016555  0.022119  0.020839  0.019996  0.021808  \n",
      "objective_topic_1   0.026730  0.016735  0.022208  0.020898  0.020044  0.021863  \n",
      "objective_topic_2   0.043556  0.017594  0.022285  0.027034  0.025392  0.029055  \n",
      "objective_topic_3   0.026670  0.016613  0.022164  0.020867  0.020018  0.021884  \n",
      "objective_topic_4   0.043629  0.017579  0.022285  0.027055  0.025410  0.029080  \n",
      "objective_topic_5   0.026631  0.016537  0.022104  0.020887  0.020084  0.021829  \n",
      "objective_topic_6   0.026843  0.016924  0.022260  0.020927  0.020070  0.021899  \n",
      "objective_topic_7   0.026566  0.016544  0.022107  0.020920  0.020099  0.021837  \n",
      "objective_topic_8   0.026631  0.016537  0.022104  0.020887  0.020084  0.021829  \n",
      "objective_topic_9   0.026877  0.017687  0.022291  0.020970  0.020103  0.021941  \n",
      "objective_topic_10  0.026874  0.063072  0.022150  0.020962  0.020110  0.021935  \n",
      "objective_topic_11  0.026750  0.130314  0.022234  0.020905  0.020107  0.021862  \n",
      "objective_topic_12  0.352166  0.454525  0.270583  0.507150  0.527955  0.482873  \n",
      "objective_topic_13  0.026631  0.016537  0.022104  0.020887  0.020084  0.021829  \n",
      "objective_topic_14  0.026621  0.016516  0.241364  0.020849  0.020031  0.021842  \n",
      "objective_topic_15  0.026690  0.016654  0.022217  0.020880  0.020048  0.021841  \n",
      "objective_topic_16  0.026828  0.017087  0.022267  0.020942  0.020083  0.021914  \n",
      "objective_topic_17  0.026586  0.016552  0.022218  0.020934  0.020070  0.021916  \n",
      "objective_topic_18  0.026726  0.016716  0.022205  0.020896  0.020045  0.021862  \n",
      "objective_topic_19  0.026653  0.016555  0.022180  0.020866  0.020004  0.021808  \n",
      "objective_topic_20  0.026631  0.016537  0.022104  0.020887  0.020084  0.021829  \n",
      "objective_topic_21  0.026856  0.016525  0.022103  0.020859  0.020071  0.021841  \n",
      "objective_topic_22  0.026638  0.016571  0.022168  0.020854  0.020008  0.021815  \n",
      "objective_topic_23  0.026610  0.016537  0.022173  0.020844  0.020000  0.021808  \n",
      "\n",
      "[27 rows x 3959 columns]\n"
     ]
    }
   ],
   "source": [
    "for topic_name in devided_model.topic_names:\n",
    "    if topic_name in devided_model.score_tracker['top_tokens'].last_tokens:\n",
    "        print(topic_name + ': '+ ' '.join(devided_model.score_tracker['top_tokens'].last_tokens[topic_name][:10]))\n",
    "\n",
    "print (\"Perplexity:\", devided_model.score_tracker[\"perplexity_score\"].last_value)\n",
    "print (devided_model.get_phi())\n",
    "print(devided_model.get_theta())\n",
    "#for i,raw in enumerate(devided_model.get_phi()):\n",
    "#    print(i,' ',raw)"
   ]
  },
  {
   "cell_type": "code",
   "execution_count": 102,
   "metadata": {},
   "outputs": [
    {
     "data": {
      "text/plain": [
       "[<matplotlib.lines.Line2D at 0x7fa859091f98>]"
      ]
     },
     "execution_count": 102,
     "metadata": {},
     "output_type": "execute_result"
    },
    {
     "data": {
      "image/png": "[encoded data removed]",
      "text/plain": [
       "<matplotlib.figure.Figure at 0x7fa858d7f550>"
      ]
     },
     "metadata": {},
     "output_type": "display_data"
    }
   ],
   "source": [
    "plt.plot(devided_model.score_tracker[\"perplexity_score\"].value[1:])"
   ]
  },
  {
   "cell_type": "code",
   "execution_count": 55,
   "metadata": {
    "collapsed": true
   },
   "outputs": [],
   "source": [
    "import datetime"
   ]
  },
  {
   "cell_type": "code",
   "execution_count": 30,
   "metadata": {},
   "outputs": [
    {
     "data": {
      "text/plain": [
       "'2017-12-30T20:06:00.763984'"
      ]
     },
     "execution_count": 30,
     "metadata": {},
     "output_type": "execute_result"
    }
   ],
   "source": [
    "datetime.datetime.now().isoformat()"
   ]
  },
  {
   "cell_type": "code",
   "execution_count": null,
   "metadata": {
    "collapsed": true
   },
   "outputs": [],
   "source": [
    "def save_model(model):\n",
    "    file_name = 'best_model_' + str(T) +\"for_visartm_2\"\n",
    "    model.get_theta().to_pickle(\"theta\") \n",
    "    model.get_phi().transform().to_pickle(\"phi\")\n",
    "    model.save(file_name)"
   ]
  },
  {
   "cell_type": "code",
   "execution_count": 106,
   "metadata": {
    "collapsed": true
   },
   "outputs": [],
   "source": [
    "save_model(devided_model)"
   ]
  },
  {
   "cell_type": "code",
   "execution_count": 58,
   "metadata": {
    "collapsed": true
   },
   "outputs": [],
   "source": [
    "lol = artm.ARTM(num_topics=21)"
   ]
  },
  {
   "cell_type": "code",
   "execution_count": null,
   "metadata": {
    "collapsed": true
   },
   "outputs": [],
   "source": []
  }
 ],
 "metadata": {
  "kernelspec": {
   "display_name": "Python 3",
   "language": "python",
   "name": "python3"
  },
  "language_info": {
   "codemirror_mode": {
    "name": "ipython",
    "version": 3
   },
   "file_extension": ".py",
   "mimetype": "text/x-python",
   "name": "python",
   "nbconvert_exporter": "python",
   "pygments_lexer": "ipython3",
   "version": "3.5.2"
  }
 },
 "nbformat": 4,
 "nbformat_minor": 2
}
